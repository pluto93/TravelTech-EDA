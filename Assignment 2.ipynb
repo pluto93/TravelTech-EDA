{
 "cells": [
  {
   "cell_type": "markdown",
   "metadata": {},
   "source": [
    "# DS4D Assignment 2: Exploring a real-word dataset"
   ]
  },
  {
   "cell_type": "markdown",
   "metadata": {},
   "source": [
    "## Introduction"
   ]
  },
  {
   "cell_type": "markdown",
   "metadata": {},
   "source": [
    "The TravelTechDataset2024Reduced2.csv was provided by Joshua Ryan-Saha and his team at Edinburgh’s Data-Driven Innovation and Tourism initiative, under the TravelTech Scotland network. This dataset was created to analyse festival and tourism patterns within Edinburgh, specifically aiming to understand audience behaviors at festivals, such as the Edinburgh Fringe.\n",
    "\n",
    "**Purpose of Collection:**\n",
    "The primary goal behind collecting and sharing this dataset is to support research into audience behaviors and to address broader challenges in tourism and event management. By analysing audience flows, genre preferences, and timing, researchers and festival organizers can make informed decisions on optimizing event schedules, improving accessibility, and enhancing the audience experience. Additionally, the dataset helps to explore innovative ways to tackle issues like “choice anxiety,” which festival-goers often experience due to the vast number of events available.\n",
    "\n",
    "**Key Data Types and Variables:**\n",
    "The dataset contains critical variables that allow for a rich analysis of audience journeys:\n",
    "\n",
    "Ticket Information: ticket_type identifies types of tickets, helping to segment audiences and their preferences.\n",
    "Customer and Transaction Details: Fields like customer_id, customer_postcode, transaction_id, and transaction_datetime provide anonymized insights into booking behaviors and audience location distribution.\n",
    "Event Information: Attributes like event_code, event_name, programme_genre, and subgenre categorize each event by genre and style, supporting genre-based analyses and emotional journey mapping.\n",
    "Venue Information: Details on venues and spaces, such as venue_name and space_name, help in assessing venue popularity and audience flow across festival locations.\n",
    "\n",
    "**Importance:**\n",
    "This dataset is integral to understanding audience behaviors, particularly in tracking the “emotional arc” or sequence of experiences that festival-goers undertake. It aids in identifying common pathways, optimizing event schedules, and even addressing social issues around tourism by redistributing foot traffic and promoting less-visited venues. Overall, it offers a valuable, responsible approach to studying the dynamics of large-scale cultural events and their impact on urban tourism."
   ]
  },
  {
   "cell_type": "markdown",
   "metadata": {},
   "source": [
    "## Method: Exploring the TravelTech Dataset"
   ]
  },
  {
   "cell_type": "markdown",
   "metadata": {},
   "source": [
    "The exploration phase of this dataset will include data cleaning, descriptive statistics, and visualisations, following these steps:\n",
    "\n",
    "## Data Cleaning and Preprocessing\n",
    "\n",
    "1. Checked for Missing Values:\n",
    "\n",
    "I identified columns with missing values to understand which parts of the dataset are incomplete.\n",
    "Depending on the context and importance of each column, I decided how to handle these missing values:\n",
    "For example, I filled missing values in the customer_postcode column with \"Unknown\" to avoid losing records with no postcode data.\n",
    "For the programme_genre column, I filled missing values with \"Other\" to group records without a specified genre, ensuring the integrity of the dataset.\n",
    "\n",
    "2. Converted Date Columns to Datetime Format:\n",
    "\n",
    "The transaction_datetime and performance_datetime columns were converted to datetime format to allow for easier manipulation and analysis of date and time.\n",
    "This conversion enables operations like extracting specific parts of the date (e.g., year, month, day) and performing time-based analysis.\n",
    "\n",
    "3. Standardized Text Columns:\n",
    "\n",
    "To maintain consistency and avoid duplication due to capitalization or extra spaces, I standardized the text in key categorical columns:\n",
    "I stripped extra spaces and converted all values in the ticket_type and subgenre1 columns to lowercase.\n",
    "This standardization ensures that similar values are treated as identical, preventing issues in analysis or visualization where slight variations could create separate categories.\n",
    "\n",
    "4. Removed Duplicate Records:\n",
    "\n",
    "I checked for and removed duplicate rows in the dataset to avoid redundancy and prevent over-counting.\n",
    "This step is essential for ensuring the accuracy of analysis results, especially when calculating statistics or aggregating data.\n",
    "\n",
    "5. Checked for Consistency in Categorical Columns:\n",
    "\n",
    "I inspected unique values in critical categorical columns such as ticket_type and sales_channel to ensure that data values were consistent and free from unexpected entries.\n",
    "This step helps detect any anomalies or outliers that may need correction or adjustment before analysis.\n",
    "\n",
    "6. Rechecked for Duplicates After Cleaning:\n",
    "\n",
    "After cleaning, I rechecked the dataset for duplicates to ensure no additional duplicates were introduced during the cleaning process.\n",
    "This final check helps ensure that the dataset is fully deduplicated and ready for analysis.\n"
   ]
  },
  {
   "cell_type": "code",
   "execution_count": 43,
   "metadata": {},
   "outputs": [
    {
     "name": "stdout",
     "output_type": "stream",
     "text": [
      "Unique values in ticket_type: ['concession' 'full price' 'fringe friend' 'senior citizen' '2for1'\n",
      " 'under 18' 'pay what you can - £5.00' 'community ticket' 'sirloin seat'\n",
      " 'pay what you can - £11.00' 'under 16 special' 'student' 'fotf'\n",
      " 'pay what you can - £2.50' 'family' 'pay what you can - £1.00' '2 for 1'\n",
      " 'group concession' 'pay what you can - £7.00' 'pay what you can - £10.00'\n",
      " 'personal assistant' 'pay what you can - £12.50'\n",
      " 'pay what you can - £7.50' 'half price hut' 'pay what you can - £6.00'\n",
      " 'fringe 2 for 1' 'ticket & hachimaki headband' 'family ticket' 'child'\n",
      " 'media' 'fringe industry comp' 'pay what you can - £10'\n",
      " '£3 ticket for kids' 'pay what you can - £8.00' 'hph' '2 for 1 (web)'\n",
      " 'partial view full price' 'family of 4' 'old community tickets'\n",
      " 'sirlon seat - concession' 'full price - alcohol free'\n",
      " 'partial view concession' 'pay what you can' 'd/deaf or disabled person'\n",
      " 'pay what you can -£18' 'pay what you can - £15.00' 'arts industry comp'\n",
      " 'unwaged' 'group' 'oap' 'pay what you can - £9.00' 'team ticket'\n",
      " 'unemployed / benefit recipient' 'disabled' 'pay what you can - £2.00'\n",
      " 'company guest' 'exclusive booth' 'pay what you can - £20.00'\n",
      " 'babe in arms' 'pay what you can - £6' 'pay what you can - £12.00'\n",
      " 'group discount' 'pay what you can - £4.00' 'pay what you can - £9.50'\n",
      " 'pay what you can - £14.50' 'pay what you can - £5.50' 'child aged 12-17'\n",
      " 'pay what you can - £18.00' 'press comp' 'child aged 5-15'\n",
      " 'pay what you can - £3.00' '2for1 jtt 2024' 'unemployed'\n",
      " 'the scotsman subscriber offer' 'pay what you can - £8.50'\n",
      " 'restricted view pa' 'pay what you can - £6.50' 'ticket offer 20% off'\n",
      " 'pay what you can - £5' 'ticket & pint' 'pay what you want (pre-show)'\n",
      " 'pay what you can - £14.00' 'wheelchair patron' 'fw student'\n",
      " 'pay what you can - £14' 'onstage seat' 'pay what you can - £10.50'\n",
      " 'pay what you can - £16.00' 'ad headset' 'pay what you can - £13.00'\n",
      " 'ticket & pint and pie' 'pay what you can - £15'\n",
      " 'pay what you can - £0.00' 'issjtt10' 'seat / wc (access)'\n",
      " 'personal assistant (paid)' 'pay what you can - £30.00' 'vip ticket'\n",
      " 'concession - alcohol free' 'pay what you can - £25.00'\n",
      " '£15 ticket offer' 'caption user']\n",
      "Unique values in sales_channel: ['Web' 'Phone' 'Counter' 'Postal']\n",
      "Unique values in programme_genre: ['Theatre' 'Comedy' 'Dance Physical Theatre and Circus' \"Children's Shows\"\n",
      " 'Musicals and Opera' 'Music' 'Cabaret and Variety' 'Events' 'Spoken Word'\n",
      " 'Exhibitions' 'Family' 'Other' 'Film and Video' 'Talks and Discussions']\n",
      "Data after cleaning:\n",
      "<class 'pandas.core.frame.DataFrame'>\n",
      "RangeIndex: 600000 entries, 0 to 599999\n",
      "Data columns (total 17 columns):\n",
      " #   Column                Non-Null Count   Dtype              \n",
      "---  ------                --------------   -----              \n",
      " 0   ticket_type           600000 non-null  object             \n",
      " 1   customer_id           599933 non-null  float64            \n",
      " 2   customer_postcode     600000 non-null  object             \n",
      " 3   transaction_id        600000 non-null  int64              \n",
      " 4   transaction_datetime  600000 non-null  datetime64[ns, UTC]\n",
      " 5   performance_datetime  599906 non-null  datetime64[ns, UTC]\n",
      " 6   event_code            600000 non-null  object             \n",
      " 7   event_name            600000 non-null  object             \n",
      " 8   programme_genre       600000 non-null  object             \n",
      " 9   sales_channel         600000 non-null  object             \n",
      " 10  subgenre1             582371 non-null  object             \n",
      " 11  subgenre2             457934 non-null  object             \n",
      " 12  venue_id              600000 non-null  int64              \n",
      " 13  venue_name            600000 non-null  object             \n",
      " 14  space_id              600000 non-null  int64              \n",
      " 15  space_name            600000 non-null  object             \n",
      " 16  index                 600000 non-null  int64              \n",
      "dtypes: datetime64[ns, UTC](2), float64(1), int64(4), object(10)\n",
      "memory usage: 77.8+ MB\n",
      "None\n",
      "Sample of cleaned data:\n",
      "  ticket_type  customer_id customer_postcode  transaction_id  \\\n",
      "0  concession    1608842.0              1810         5073822   \n",
      "1  full price     661100.0           DG3 5AJ         5212218   \n",
      "2  concession    1283591.0          BN25 3TN         5238934   \n",
      "3  concession    1558566.0           Unknown         5191158   \n",
      "4  full price    1645690.0           Unknown         5189641   \n",
      "\n",
      "       transaction_datetime      performance_datetime       event_code  \\\n",
      "0 2024-08-12 01:19:16+00:00 2024-08-13 18:40:00+00:00  2024SOLVEIT_AAV   \n",
      "1 2024-08-18 01:54:28+00:00 2024-08-21 16:00:00+00:00   2024JOETHOM_PD   \n",
      "2 2024-08-19 13:30:06+00:00 2024-08-19 15:50:00+00:00  2024MURDERS_ABA   \n",
      "3 2024-08-17 10:28:36+00:00 2024-08-17 22:00:00+00:00  2024BLOODON_BLP   \n",
      "4 2024-08-17 09:22:17+00:00 2024-08-17 20:25:00+00:00    2024ROUGE_BEW   \n",
      "\n",
      "                      event_name                    programme_genre  \\\n",
      "0                 Solve It Squad                            Theatre   \n",
      "1       Joe Thomas: Rule Breaker                             Comedy   \n",
      "2       Murder, She Didn't Write                             Comedy   \n",
      "3  Blood on the Clocktower: Live                             Comedy   \n",
      "4                          Rouge  Dance Physical Theatre and Circus   \n",
      "\n",
      "  sales_channel  subgenre1       subgenre2  venue_id  \\\n",
      "0           Web     comedy  Musical Comedy       673   \n",
      "1           Web   stand-up             NaN       429   \n",
      "2           Web     improv         Theatre       674   \n",
      "3           Web  game show          Horror      1201   \n",
      "4           Web    cabaret      Acrobatics      1555   \n",
      "\n",
      "                       venue_name  space_id             space_name    index  \n",
      "0  Assembly George Square Studios      1233             Studio Two  1238681  \n",
      "1             Pleasance Courtyard       809            Cabaret Bar  1558707  \n",
      "2          Assembly George Square      1238  Gordon Aikman Theatre  1619446  \n",
      "3       Underbelly, Bristo Square      2291                 Jersey  1512166  \n",
      "4                  Assembly Rooms      2116             Music Hall  1508544  \n"
     ]
    }
   ],
   "source": [
    "import pandas as pd\n",
    "\n",
    "# Loading the dataset\n",
    "data = pd.read_csv('TravelTechDataset2024Reduced2.csv')\n",
    "\n",
    "# Displaying the first few rows\n",
    "data.head()\n",
    "\n",
    "# Checking for missing values and handling them\n",
    "# Filling in missing values in 'customer_postcode' with 'Unknown'\n",
    "data['customer_postcode'] = data['customer_postcode'].fillna('Unknown')\n",
    "\n",
    "# Filling in missing values in 'programme_genre' with 'Other'\n",
    "data['programme_genre'] = data['programme_genre'].fillna('Other')\n",
    "\n",
    "# Converting date columns to datetime format\n",
    "data['transaction_datetime'] = pd.to_datetime(data['transaction_datetime'])\n",
    "data['performance_datetime'] = pd.to_datetime(data['performance_datetime'])\n",
    "\n",
    "# Standardizing text columns to ensure consistency\n",
    "data['ticket_type'] = data['ticket_type'].str.strip().str.lower()\n",
    "data['subgenre1'] = data['subgenre1'].str.strip().str.lower()\n",
    "\n",
    "# Checking for duplicates and remove them\n",
    "data = data.drop_duplicates()\n",
    "\n",
    "# Verifying unique values for consistency checks in important columns\n",
    "print(\"Unique values in ticket_type:\", data['ticket_type'].unique())\n",
    "print(\"Unique values in sales_channel:\", data['sales_channel'].unique())\n",
    "print(\"Unique values in programme_genre:\", data['programme_genre'].unique())\n",
    "\n",
    "# Rechecking for duplicates after cleaning to ensure no additional duplicates are present\n",
    "data = data.drop_duplicates()\n",
    "\n",
    "# Displaying the final cleaned data summary\n",
    "print(\"Data after cleaning:\")\n",
    "print(data.info())\n",
    "print(\"Sample of cleaned data:\")\n",
    "print(data.head())\n"
   ]
  },
  {
   "cell_type": "markdown",
   "metadata": {},
   "source": [
    "\n",
    "\n",
    "**Data Cleaning Observations**\n",
    "\n",
    "Ticket Type Diversity:\n",
    "\n",
    "The ticket_type column contains a wide variety of ticket categories, including standard options (e.g., \"Full Price,\" \"Concession\") and many unique options (e.g., \"Pay What You Can - £10.00,\" \"VIP Ticket\").\n",
    "This diversity suggests that ticket pricing strategies are varied, potentially catering to different audience segments or event-specific pricing models.\n",
    "If analysis requires grouping these ticket types, it might be helpful to combine some categories (e.g., grouping all \"Pay What You Can\" options into one category).\n",
    "\n",
    "Sales Channels:\n",
    "\n",
    "There are only four unique values in sales_channel: \"Web,\" \"Phone,\" \"Counter,\" and \"Postal.\"\n",
    "This limited number of channels indicates that most sales are likely made online, but there may still be a significant number of transactions via traditional channels (phone or in-person).\n",
    "If the goal is to analyze sales by channel, these categories are already consistent and should be easy to work with.\n",
    "\n",
    "Programme Genre Variety:\n",
    "\n",
    "The programme_genre column includes a broad range of genres such as \"Theatre,\" \"Comedy,\" \"Music,\" and \"Exhibitions.\"\n",
    "The genre \"Other\" appears in the data due to our decision to fill missing values in this column with \"Other,\" which ensures that all entries have a genre.\n",
    "This diversity could offer valuable insights when analyzing audience preferences for different types of events.\n",
    "\n",
    "Data Completeness:\n",
    "\n",
    "Some columns, like subgenre1 and subgenre2, still have missing values, with subgenre1 missing about 3% of its values and subgenre2 missing about 23%.\n",
    "This indicates that the dataset may not consistently capture detailed genre/sub-genre information for each event.\n",
    "If subgenre1 and subgenre2 are essential for analysis, additional strategies might be needed to handle these missing values (e.g., grouping events without specific sub-genres under a broader category).\n",
    "\n",
    "Date Columns:\n",
    "\n",
    "The transaction_datetime and performance_datetime columns were successfully converted to datetime format, allowing for easy analysis of transaction and performance timing.\n",
    "This format will enable further analysis, such as identifying peak transaction times or analyzing event schedules.\n",
    "\n",
    "Data Types and Completeness:\n",
    "\n",
    "The dataset is generally complete for most fields, except for customer_id, which has 67 missing values, and performance_datetime, which has 94 missing values.\n",
    "The missing customer_id values could impact analyses that require individual customer tracking (e.g., loyalty analysis).\n",
    "Missing values in performance_datetime could indicate canceled or unscheduled events, which may need further investigation if event timing is critical to the analysis.\n",
    "\n",
    "Potential for Grouping:\n",
    "\n",
    "The ticket_type and subgenre1 columns, due to their diversity, might benefit from grouping to create broader categories for analysis (e.g., merging all concession or discounted ticket types).\n",
    "This will reduce complexity and make visualizations more interpretable.\n",
    "\n",
    "Unique Values in Key Columns:\n",
    "\n",
    "The output from unique values in key columns helps validate the data’s consistency and ensures there are no unexpected or inconsistent entries.\n",
    "The structure of unique values in columns like ticket_type and programme_genre suggests that the data has been properly standardized and cleaned for analysis.\n",
    "\n",
    "Memory Usage:\n",
    "\n",
    "With 600,000 entries and a mix of text, numerical, and datetime data, the dataset uses around 77.8 MB of memory, which is manageable for most analysis tasks.\n",
    "However, if working in environments with limited memory, further optimizations (like reducing data types for specific columns) might be considered."
   ]
  },
  {
   "cell_type": "markdown",
   "metadata": {},
   "source": [
    "## Descriptive Statistics\n",
    "\n",
    "Summary Statistics: I’ll generate summary statistics for numerical columns and frequency counts for categorical columns to understand the data’s overall distribution.\n",
    "\n",
    "Ticket Type Analysis: I will examine the distribution of ticket_type to see the breakdown of audience types.\n",
    "\n",
    "Event Frequency: Counting occurrences of programme_genre and subgenre1 will give insights into the popularity of various genres."
   ]
  },
  {
   "cell_type": "code",
   "execution_count": 44,
   "metadata": {},
   "outputs": [
    {
     "data": {
      "text/html": [
       "<div>\n",
       "<style scoped>\n",
       "    .dataframe tbody tr th:only-of-type {\n",
       "        vertical-align: middle;\n",
       "    }\n",
       "\n",
       "    .dataframe tbody tr th {\n",
       "        vertical-align: top;\n",
       "    }\n",
       "\n",
       "    .dataframe thead th {\n",
       "        text-align: right;\n",
       "    }\n",
       "</style>\n",
       "<table border=\"1\" class=\"dataframe\">\n",
       "  <thead>\n",
       "    <tr style=\"text-align: right;\">\n",
       "      <th></th>\n",
       "      <th>customer_id</th>\n",
       "      <th>transaction_id</th>\n",
       "      <th>venue_id</th>\n",
       "      <th>space_id</th>\n",
       "      <th>index</th>\n",
       "    </tr>\n",
       "  </thead>\n",
       "  <tbody>\n",
       "    <tr>\n",
       "      <th>count</th>\n",
       "      <td>5.999330e+05</td>\n",
       "      <td>6.000000e+05</td>\n",
       "      <td>600000.000000</td>\n",
       "      <td>600000.000000</td>\n",
       "      <td>6.000000e+05</td>\n",
       "    </tr>\n",
       "    <tr>\n",
       "      <th>mean</th>\n",
       "      <td>1.131905e+06</td>\n",
       "      <td>4.970092e+06</td>\n",
       "      <td>973.464583</td>\n",
       "      <td>1657.209372</td>\n",
       "      <td>9.280546e+05</td>\n",
       "    </tr>\n",
       "    <tr>\n",
       "      <th>std</th>\n",
       "      <td>5.197671e+05</td>\n",
       "      <td>1.981437e+05</td>\n",
       "      <td>663.702764</td>\n",
       "      <td>807.266612</td>\n",
       "      <td>5.359890e+05</td>\n",
       "    </tr>\n",
       "    <tr>\n",
       "      <th>min</th>\n",
       "      <td>4.000000e+00</td>\n",
       "      <td>4.680426e+06</td>\n",
       "      <td>422.000000</td>\n",
       "      <td>806.000000</td>\n",
       "      <td>1.000000e+00</td>\n",
       "    </tr>\n",
       "    <tr>\n",
       "      <th>25%</th>\n",
       "      <td>7.273860e+05</td>\n",
       "      <td>4.787596e+06</td>\n",
       "      <td>441.000000</td>\n",
       "      <td>897.000000</td>\n",
       "      <td>4.641635e+05</td>\n",
       "    </tr>\n",
       "    <tr>\n",
       "      <th>50%</th>\n",
       "      <td>1.329204e+06</td>\n",
       "      <td>4.947784e+06</td>\n",
       "      <td>597.000000</td>\n",
       "      <td>1284.000000</td>\n",
       "      <td>9.286060e+05</td>\n",
       "    </tr>\n",
       "    <tr>\n",
       "      <th>75%</th>\n",
       "      <td>1.574065e+06</td>\n",
       "      <td>5.139087e+06</td>\n",
       "      <td>1462.000000</td>\n",
       "      <td>2325.000000</td>\n",
       "      <td>1.392132e+06</td>\n",
       "    </tr>\n",
       "    <tr>\n",
       "      <th>max</th>\n",
       "      <td>1.689323e+06</td>\n",
       "      <td>5.353432e+06</td>\n",
       "      <td>2626.000000</td>\n",
       "      <td>3378.000000</td>\n",
       "      <td>1.856926e+06</td>\n",
       "    </tr>\n",
       "  </tbody>\n",
       "</table>\n",
       "</div>"
      ],
      "text/plain": [
       "        customer_id  transaction_id       venue_id       space_id  \\\n",
       "count  5.999330e+05    6.000000e+05  600000.000000  600000.000000   \n",
       "mean   1.131905e+06    4.970092e+06     973.464583    1657.209372   \n",
       "std    5.197671e+05    1.981437e+05     663.702764     807.266612   \n",
       "min    4.000000e+00    4.680426e+06     422.000000     806.000000   \n",
       "25%    7.273860e+05    4.787596e+06     441.000000     897.000000   \n",
       "50%    1.329204e+06    4.947784e+06     597.000000    1284.000000   \n",
       "75%    1.574065e+06    5.139087e+06    1462.000000    2325.000000   \n",
       "max    1.689323e+06    5.353432e+06    2626.000000    3378.000000   \n",
       "\n",
       "              index  \n",
       "count  6.000000e+05  \n",
       "mean   9.280546e+05  \n",
       "std    5.359890e+05  \n",
       "min    1.000000e+00  \n",
       "25%    4.641635e+05  \n",
       "50%    9.286060e+05  \n",
       "75%    1.392132e+06  \n",
       "max    1.856926e+06  "
      ]
     },
     "execution_count": 44,
     "metadata": {},
     "output_type": "execute_result"
    }
   ],
   "source": [
    "# Summary statistics\n",
    "data.describe()"
   ]
  },
  {
   "cell_type": "code",
   "execution_count": 45,
   "metadata": {},
   "outputs": [
    {
     "data": {
      "text/plain": [
       "ticket_type\n",
       "full price                   370578\n",
       "concession                   113347\n",
       "2for1                         37436\n",
       "pay what you can - £5.00      11408\n",
       "fringe friend                  8587\n",
       "                              ...  \n",
       "seat / wc (access)                1\n",
       "wheelchair patron                 1\n",
       "concession - alcohol free         1\n",
       "£15 ticket offer                  1\n",
       "caption user                      1\n",
       "Name: count, Length: 102, dtype: int64"
      ]
     },
     "execution_count": 45,
     "metadata": {},
     "output_type": "execute_result"
    }
   ],
   "source": [
    "# Ticket type distribution\n",
    "data['ticket_type'].value_counts()"
   ]
  },
  {
   "cell_type": "code",
   "execution_count": 46,
   "metadata": {},
   "outputs": [
    {
     "data": {
      "text/plain": [
       "subgenre1\n",
       "stand-up              135014\n",
       "comedy                 49096\n",
       "musical theatre        28175\n",
       "magic                  26451\n",
       "circus                 25537\n",
       "                       ...  \n",
       "exhibition                17\n",
       "on demand                 16\n",
       "craft                     14\n",
       "online performance         3\n",
       "livestream                 3\n",
       "Name: count, Length: 104, dtype: int64"
      ]
     },
     "execution_count": 46,
     "metadata": {},
     "output_type": "execute_result"
    }
   ],
   "source": [
    "# Event genre distribution\n",
    "data['programme_genre'].value_counts()\n",
    "data['subgenre1'].value_counts()"
   ]
  },
  {
   "cell_type": "markdown",
   "metadata": {},
   "source": [
    "**Observations**\n",
    "\n",
    "**Summary Statistics (Numerical Columns)**\n",
    "\n",
    "Customer and Transaction IDs: Mean and standard deviation indicate a broad range in customer ID and transaction ID values, suggesting a diverse and extensive audience.\n",
    "\n",
    "Venue and Space IDs: Wide distribution of venue and space IDs, with values ranging from 422 to 2626 for venues and 806 to 3378 for spaces, indicating a large number of unique venues and performance spaces.\n",
    "\n",
    "**Observations from Ticket Type Analysis**\n",
    "\n",
    "Top Ticket Types: \"Full Price\" is the most common ticket type (370,578), followed by \"Concession\" (113,347) and \"2for1\" (37,436). This shows a preference for standard and discounted options.\n",
    "\n",
    "Diversity in Ticket Types: With 102 unique ticket types, the festival offers extensive ticketing options, catering to various audience segments and accessibility needs.\n",
    "\n",
    "Niche Ticket Types: Many ticket types (like \"Wheelchair Patron\" and \"£15 Ticket Offer\") appear only once, likely indicating very specific or special options for a limited audience.\n",
    "\n",
    "**Observations of Event Frequency: Programme Genre and Sub-Genre**\n",
    "\n",
    "Popular Sub-Genres: \"Stand-up\" (135,014), \"Comedy\" (49,096), and \"Musical Theatre\" (28,175) are the most frequent sub-genres, highlighting a strong audience preference for humor and live performance formats.\n",
    "\n",
    "Less Popular Sub-Genres: \"Exhibition\" (17), \"Craft\" (14), and \"Online Performance\" (3) are the least common, suggesting either low demand or limited event offerings in these areas.\n",
    "\n",
    "High Genre Diversity: With 104 unique sub-genres, the festival offers a diverse range of experiences, appealing to a broad audience with varied interests.\n",
    "\n",
    "**Insights**\n",
    "\n",
    "Audience Preferences: The popularity of \"Full Price\" and \"Concession\" tickets indicates demand for both standard and accessible pricing.\n",
    "\n",
    "Event Variety: The festival’s extensive sub-genre list suggests a commitment to providing a rich variety of events, with a notable emphasis on stand-up and comedy.\n",
    "\n",
    "Opportunity Areas: Low counts in niche sub-genres and ticket types may represent areas for potential growth or targeted marketing to attract more diverse attendees."
   ]
  },
  {
   "cell_type": "markdown",
   "metadata": {},
   "source": [
    "## Visualisations"
   ]
  },
  {
   "cell_type": "markdown",
   "metadata": {},
   "source": [
    "**Emotional Arc and Immersion Pathways for Music Festival-Goers**\n",
    "\n",
    "**Objective**: My explorations examine how audiences emotionally journey through the festival by analyzing the sequence of events attended, ticket types, and event genres. The idea is to create a narrative view of an attendee's “emotional arc” or the progression of experiences throughout their day at the festival. By revealing these immersion pathways, organizers can design complementary event clusters, optimize timing, and build curated experiences."
   ]
  },
  {
   "cell_type": "markdown",
   "metadata": {},
   "source": [
    "## 1. Emotional Path Mapping Based on Event Sequences\n",
    "\n",
    "**Background**\n",
    "\n",
    "The Edinburgh Fringe Festival is known for its diverse programming, where attendees often transition between differeent events and genres to craft a personalised experience. Understanding these transition patterns can help organizers design event schedules that resonate with audience preferences, creating a smooth flow through different genres.\n",
    "\n",
    "**Motivation**\n",
    "\n",
    "Mapping audience pathways between genres helps identify popular transition sequences, such as moving from high-energy concerts to comedy shows or ending with theater performances. By capturing these \"emotional arcs,\" organizers can better align events to cater to mood transitions and enhance the overall festival experience.\n",
    "\n",
    "**Process**\n",
    "\n",
    "Data Loading and Preparation:\n",
    "\n",
    "The dataset is loaded, and the transaction_datetime column is converted to datetime format to handle time-based analysis.\n",
    "The data is sorted by customer_id and transaction_datetime to establish a chronological sequence for each customer’s attendance.\n",
    "\n",
    "Identifying Genre Transitions:\n",
    "\n",
    "A next_genre column is created, which captures the genre that each customer attended immediately after the current event. This helps in identifying transitions between genres.\n",
    "Rows without a next_genre are dropped, as they represent the last event for each customer and don’t contribute to genre transitions.\n",
    "\n",
    "Counting Genre Transitions:\n",
    "\n",
    "The code groups the data by programme_genre and next_genre to count how often each transition occurs. This provides the number of times audiences move from one genre to another.\n",
    "\n",
    "Pivoting Data for the Heatmap:\n",
    "\n",
    "The transition counts are pivoted to form a matrix, where rows represent the current genre, columns represent the next genre, and cell values are the transition counts.\n",
    "Creating the Heatmap:\n",
    "\n",
    "A heatmap is generated using Seaborn, with color intensity indicating the frequency of each genre transition.\n",
    "The title, x-axis, and y-axis labels are added to complete the visualization."
   ]
  },
  {
   "cell_type": "code",
   "execution_count": 47,
   "metadata": {},
   "outputs": [
    {
     "data": {
      "image/png": "[encoded data removed]",
      "text/plain": [
       "<Figure size 1000x800 with 2 Axes>"
      ]
     },
     "metadata": {},
     "output_type": "display_data"
    }
   ],
   "source": [
    "import seaborn as sns\n",
    "import matplotlib.pyplot as plt\n",
    "\n",
    "# Loading the dataset\n",
    "data = pd.read_csv('TravelTechDataset2024Reduced2.csv')\n",
    "data['transaction_datetime'] = pd.to_datetime(data['transaction_datetime'])\n",
    "\n",
    "# Sorting by customer and datetime to identify sequences\n",
    "data = data.sort_values(['customer_id', 'transaction_datetime'])\n",
    "\n",
    "# Creating a column for the next genre in the sequence for each customer\n",
    "data['next_genre'] = data.groupby('customer_id')['programme_genre'].shift(-1)\n",
    "\n",
    "# Dropping rows where there is no next genre (end of sequence for each customer)\n",
    "data = data.dropna(subset=['next_genre'])\n",
    "\n",
    "# Counting occurrences of each transition (current genre to next genre)\n",
    "transition_counts = data.groupby(['programme_genre', 'next_genre']).size().reset_index(name='count')\n",
    "\n",
    "# Pivoting the data to create a matrix suitable for a heatmap\n",
    "heatmap_data = transition_counts.pivot(index='programme_genre', columns='next_genre', values='count').fillna(0)\n",
    "\n",
    "# Creating the heatmap with a lighter background and without annotations\n",
    "plt.figure(figsize=(10, 8))\n",
    "sns.heatmap(heatmap_data, annot=False, cmap=\"Blues\", cbar_kws={'label': 'Transition Count'}, vmin=0, vmax=heatmap_data.values.max()/2)\n",
    "plt.title(\"Audience Genre Transition Heatmap\")\n",
    "plt.xlabel(\"Next Genre\")\n",
    "plt.ylabel(\"Current Genre\")\n",
    "plt.show()\n"
   ]
  },
  {
   "cell_type": "markdown",
   "metadata": {},
   "source": [
    "**Output**\n",
    "\n",
    "The heatmap clearly illustrates frequent genre transitions, with notable patterns such as:\n",
    "\n",
    "\"Comedy\" frequently serves as a transition genre, possibly indicating its role as a lighthearted break between events.\n",
    "High transition counts to \"Theatre\" as a closing genre, which might suggest a preference for more immersive, reflective experiences at the end of the day.\n",
    "\n",
    "**Insight**\n",
    "\n",
    "A heatmap was chosen for visualizing common pathways between genres, as it can clearly show the intensity of transitions from one genre to another in a straightforward, grid-like format. Each cell in the heatmap represents the frequency of transitions from one genre to another, with color intensity indicating the number of transitions. This approach provides a clear, at-a-glance understanding of the most common pathways.\n",
    "\n",
    "This visualization reveals insights into how attendees structure their festival journey, helping organizers create event clusters or recommend schedules that align with these emotional pathways. By catering to popular genre transitions, the festival can enhance attendee satisfaction and provide a more cohesive festival experience."
   ]
  },
  {
   "cell_type": "markdown",
   "metadata": {},
   "source": [
    "## 2. Ticket Type Popularity by Broad Sub-Genre (Music) and Audience Demographics\n",
    "\n",
    "**Background**\n",
    "\n",
    "In a festival setting as diverse as the Edinburgh Fringe, attendees’ choices in ticket types and preferred sub-genres contribute to their unique “emotional arc” throughout the day. Each ticket type represents a different level of engagement—discounted or accessible tickets may signify casual interest, while premium options reflect a deeper commitment to the experiences. By analyzing these preferences across local and tourist demographics, we can better understand how different audience groups experience the festival.\n",
    "\n",
    "**Motivation**\n",
    "\n",
    "To craft an optimal festival experience, it's essential to understand the preferences and emotional expectations of different audience segments. This visualization reveals how demographic groups (locals vs. tourists) gravitate toward specific sub-genres and ticket types. These insights help organizers design event clusters and ticketing models that support varied engagement levels, creating pathways for attendees to experience a cohesive, emotionally resonant journey through music events at the festival.\n",
    "\n",
    "**Process**\n",
    "\n",
    "Inspecting Unique Sub-Genres in the Dataset:\n",
    "\n",
    "Loading the data and filtering it to include only entries where the programme_genre is \"Music.\" Then, checking the unique values in the subgenre1 column."
   ]
  },
  {
   "cell_type": "code",
   "execution_count": 48,
   "metadata": {},
   "outputs": [
    {
     "name": "stdout",
     "output_type": "stream",
     "text": [
      "Unique sub-genres under the 'Music' genre: ['Jazz' 'Event' 'Cabaret' 'A cappella' 'Theatre' 'Family-friendly' 'Folk'\n",
      " 'Pop' 'Classical' 'Acoustic' 'Tribute' 'Choral' 'Vocal' 'Blues' 'Soul'\n",
      " 'Funk' 'Immersive' 'Multimedia' 'Storytelling' 'Live music' 'Game show'\n",
      " 'Rock' 'Traditional' 'Spoken word' 'Solo show' 'Historical' 'Swing'\n",
      " 'Dance' 'Walk' 'Comedy' 'Music' 'Flamenco' 'World music' 'Contemporary'\n",
      " 'Science and technology' 'Live Music' 'New writing' 'Experimental'\n",
      " 'Musical theatre' 'Poetry' \"Children's show\" 'Disabled-led'\n",
      " 'Musical Comedy' 'Opera' 'Alternative comedy']\n"
     ]
    }
   ],
   "source": [
    "# Loading dataset and filtering necessary columns\n",
    "data = pd.read_csv('TravelTechDataset2024Reduced2.csv')\n",
    "data = data[['ticket_type', 'subgenre1', 'programme_genre', 'customer_postcode']].dropna()\n",
    "\n",
    "# Filtering for only \"Music\" programme genre\n",
    "music_data = data[data['programme_genre'].str.strip() == 'Music']\n",
    "\n",
    "# Displaying unique sub-genres in the \"Music\" genre\n",
    "unique_subgenres = music_data['subgenre1'].unique()\n",
    "print(\"Unique sub-genres under the 'Music' genre:\", unique_subgenres)\n"
   ]
  },
  {
   "cell_type": "markdown",
   "metadata": {},
   "source": [
    "After inspecting the unique sub-genres, I created a dictionary (subgenre_map) to group similar sub-genres. For example:\n",
    "\n",
    "If the output includes \"Classical,\" \"Choral,\" and \"Vocal,\" I am grouping these as \"Classical/Choral.\"\n",
    "If the output includes \"Jazz\" and \"Blues,\" group these as \"Jazz/Blues.\"\n",
    "\n",
    "I continued this process to combine related genres."
   ]
  },
  {
   "cell_type": "markdown",
   "metadata": {},
   "source": [
    "Data Loading and Filtering:\n",
    "\n",
    "The dataset is loaded, and only relevant columns are retained (ticket_type, subgenre1, programme_genre, customer_postcode).\n",
    "Rows with missing values are dropped, and only rows where programme_genre is \"Music\" are kept, focusing the analysis on music events.\n",
    "\n",
    "Broad Sub-Genre Mapping:\n",
    "\n",
    "A dictionary (subgenre_map) maps specific music sub-genres to broader categories (e.g., \"Classical,\" \"Pop/Rock\").\n",
    "This mapping is applied to create a new column, broad_subgenre, that categorizes sub-genres for easier analysis.\n",
    "\n",
    "Ticket Type Grouping:\n",
    "\n",
    "Another dictionary (ticket_type_map) consolidates various ticket types into general categories like \"Discounted Tickets,\" \"General Admission,\" and \"VIP or Premium.\"\n",
    "This mapping is used to create a combined_ticket_type column, grouping ticket types to simplify the visualization.\n",
    "\n",
    "Audience Demographic Classification:\n",
    "\n",
    "The audience_type column is created by categorizing customers as \"Local\" if their postcode starts with \"EH\" (Edinburgh area) or \"Tourist\" otherwise.\n",
    "\n",
    "Data Aggregation:\n",
    "\n",
    "The data is aggregated to count the number of tickets sold per broad sub-genre, audience type, and combined ticket type, providing a breakdown of ticket popularity by demographic and sub-genre.\n",
    "\n",
    "Visualization with Plotly:\n",
    "\n",
    "A stacked bar chart is created with Plotly, showing ticket type distribution for each broad sub-genre, split by audience type (Local and Tourist) using facet_col. Custom colours and labels are applied for clarity, and the chart is displayed, providing insights into ticket type preferences by audience demographic and genre."
   ]
  },
  {
   "cell_type": "code",
   "execution_count": 49,
   "metadata": {},
   "outputs": [
    {
     "data": {
      "application/vnd.plotly.v1+json": {
       "config": {
        "plotlyServerURL": "https://plot.ly"
       },
       "data": [
        {
         "alignmentgroup": "True",
         "hovertemplate": "Ticket Type=Discounted Tickets<br>audience_type=Local<br>Music Broad Sub-Genre=%{x}<br>Ticket Count=%{y}<extra></extra>",
         "legendgroup": "Discounted Tickets",
         "marker": {
          "color": "rgb(141,211,199)",
          "pattern": {
           "shape": ""
          }
         },
         "name": "Discounted Tickets",
         "offsetgroup": "Discounted Tickets",
         "orientation": "v",
         "showlegend": true,
         "textposition": "auto",
         "type": "bar",
         "x": [
          "Classical/Choral",
          "Experimental/Avant-Garde",
          "Family-friendly",
          "Jazz/Blues",
          "Live music",
          "Pop/Rock",
          "Theatre/Musical Theatre",
          "World/Folk"
         ],
         "xaxis": "x",
         "y": [
          1875,
          99,
          510,
          2841,
          190,
          1278,
          4562,
          619
         ],
         "yaxis": "y"
        },
        {
         "alignmentgroup": "True",
         "hovertemplate": "Ticket Type=Discounted Tickets<br>audience_type=Tourist<br>Music Broad Sub-Genre=%{x}<br>Ticket Count=%{y}<extra></extra>",
         "legendgroup": "Discounted Tickets",
         "marker": {
          "color": "rgb(141,211,199)",
          "pattern": {
           "shape": ""
          }
         },
         "name": "Discounted Tickets",
         "offsetgroup": "Discounted Tickets",
         "orientation": "v",
         "showlegend": false,
         "textposition": "auto",
         "type": "bar",
         "x": [
          "Classical/Choral",
          "Experimental/Avant-Garde",
          "Family-friendly",
          "Jazz/Blues",
          "Live music",
          "Pop/Rock",
          "Theatre/Musical Theatre",
          "World/Folk"
         ],
         "xaxis": "x2",
         "y": [
          2833,
          288,
          645,
          4022,
          261,
          2197,
          8519,
          933
         ],
         "yaxis": "y2"
        },
        {
         "alignmentgroup": "True",
         "hovertemplate": "Ticket Type=General Admission<br>audience_type=Local<br>Music Broad Sub-Genre=%{x}<br>Ticket Count=%{y}<extra></extra>",
         "legendgroup": "General Admission",
         "marker": {
          "color": "rgb(255,255,179)",
          "pattern": {
           "shape": ""
          }
         },
         "name": "General Admission",
         "offsetgroup": "General Admission",
         "orientation": "v",
         "showlegend": true,
         "textposition": "auto",
         "type": "bar",
         "x": [
          "Classical/Choral",
          "Experimental/Avant-Garde",
          "Family-friendly",
          "Jazz/Blues",
          "Live music",
          "Pop/Rock",
          "Theatre/Musical Theatre",
          "World/Folk"
         ],
         "xaxis": "x",
         "y": [
          3593,
          236,
          678,
          5457,
          367,
          2646,
          11302,
          884
         ],
         "yaxis": "y"
        },
        {
         "alignmentgroup": "True",
         "hovertemplate": "Ticket Type=General Admission<br>audience_type=Tourist<br>Music Broad Sub-Genre=%{x}<br>Ticket Count=%{y}<extra></extra>",
         "legendgroup": "General Admission",
         "marker": {
          "color": "rgb(255,255,179)",
          "pattern": {
           "shape": ""
          }
         },
         "name": "General Admission",
         "offsetgroup": "General Admission",
         "orientation": "v",
         "showlegend": false,
         "textposition": "auto",
         "type": "bar",
         "x": [
          "Classical/Choral",
          "Experimental/Avant-Garde",
          "Family-friendly",
          "Jazz/Blues",
          "Live music",
          "Pop/Rock",
          "Theatre/Musical Theatre",
          "World/Folk"
         ],
         "xaxis": "x2",
         "y": [
          5658,
          646,
          1033,
          8412,
          497,
          4505,
          20307,
          1614
         ],
         "yaxis": "y2"
        },
        {
         "alignmentgroup": "True",
         "hovertemplate": "Ticket Type=Other<br>audience_type=Local<br>Music Broad Sub-Genre=%{x}<br>Ticket Count=%{y}<extra></extra>",
         "legendgroup": "Other",
         "marker": {
          "color": "rgb(190,186,218)",
          "pattern": {
           "shape": ""
          }
         },
         "name": "Other",
         "offsetgroup": "Other",
         "orientation": "v",
         "showlegend": true,
         "textposition": "auto",
         "type": "bar",
         "x": [
          "Classical/Choral",
          "Experimental/Avant-Garde",
          "Family-friendly",
          "Jazz/Blues",
          "Live music",
          "Pop/Rock",
          "Theatre/Musical Theatre",
          "World/Folk"
         ],
         "xaxis": "x",
         "y": [
          1429,
          137,
          902,
          1718,
          86,
          827,
          3810,
          398
         ],
         "yaxis": "y"
        },
        {
         "alignmentgroup": "True",
         "hovertemplate": "Ticket Type=Other<br>audience_type=Tourist<br>Music Broad Sub-Genre=%{x}<br>Ticket Count=%{y}<extra></extra>",
         "legendgroup": "Other",
         "marker": {
          "color": "rgb(190,186,218)",
          "pattern": {
           "shape": ""
          }
         },
         "name": "Other",
         "offsetgroup": "Other",
         "orientation": "v",
         "showlegend": false,
         "textposition": "auto",
         "type": "bar",
         "x": [
          "Classical/Choral",
          "Experimental/Avant-Garde",
          "Family-friendly",
          "Jazz/Blues",
          "Live music",
          "Pop/Rock",
          "Theatre/Musical Theatre",
          "World/Folk"
         ],
         "xaxis": "x2",
         "y": [
          1144,
          166,
          890,
          1389,
          94,
          1035,
          4156,
          353
         ],
         "yaxis": "y2"
        },
        {
         "alignmentgroup": "True",
         "hovertemplate": "Ticket Type=Pay What You Can<br>audience_type=Local<br>Music Broad Sub-Genre=%{x}<br>Ticket Count=%{y}<extra></extra>",
         "legendgroup": "Pay What You Can",
         "marker": {
          "color": "rgb(251,128,114)",
          "pattern": {
           "shape": ""
          }
         },
         "name": "Pay What You Can",
         "offsetgroup": "Pay What You Can",
         "orientation": "v",
         "showlegend": true,
         "textposition": "auto",
         "type": "bar",
         "x": [
          "Classical/Choral",
          "Experimental/Avant-Garde",
          "Family-friendly",
          "Jazz/Blues",
          "Pop/Rock",
          "Theatre/Musical Theatre"
         ],
         "xaxis": "x",
         "y": [
          5,
          6,
          366,
          44,
          46,
          40
         ],
         "yaxis": "y"
        },
        {
         "alignmentgroup": "True",
         "hovertemplate": "Ticket Type=Pay What You Can<br>audience_type=Tourist<br>Music Broad Sub-Genre=%{x}<br>Ticket Count=%{y}<extra></extra>",
         "legendgroup": "Pay What You Can",
         "marker": {
          "color": "rgb(251,128,114)",
          "pattern": {
           "shape": ""
          }
         },
         "name": "Pay What You Can",
         "offsetgroup": "Pay What You Can",
         "orientation": "v",
         "showlegend": false,
         "textposition": "auto",
         "type": "bar",
         "x": [
          "Classical/Choral",
          "Experimental/Avant-Garde",
          "Family-friendly",
          "Jazz/Blues",
          "Pop/Rock",
          "Theatre/Musical Theatre"
         ],
         "xaxis": "x2",
         "y": [
          10,
          16,
          511,
          95,
          68,
          113
         ],
         "yaxis": "y2"
        },
        {
         "alignmentgroup": "True",
         "hovertemplate": "Ticket Type=VIP or Premium<br>audience_type=Local<br>Music Broad Sub-Genre=%{x}<br>Ticket Count=%{y}<extra></extra>",
         "legendgroup": "VIP or Premium",
         "marker": {
          "color": "rgb(128,177,211)",
          "pattern": {
           "shape": ""
          }
         },
         "name": "VIP or Premium",
         "offsetgroup": "VIP or Premium",
         "orientation": "v",
         "showlegend": true,
         "textposition": "auto",
         "type": "bar",
         "x": [
          "Family-friendly",
          "Theatre/Musical Theatre"
         ],
         "xaxis": "x",
         "y": [
          5,
          7
         ],
         "yaxis": "y"
        },
        {
         "alignmentgroup": "True",
         "hovertemplate": "Ticket Type=VIP or Premium<br>audience_type=Tourist<br>Music Broad Sub-Genre=%{x}<br>Ticket Count=%{y}<extra></extra>",
         "legendgroup": "VIP or Premium",
         "marker": {
          "color": "rgb(128,177,211)",
          "pattern": {
           "shape": ""
          }
         },
         "name": "VIP or Premium",
         "offsetgroup": "VIP or Premium",
         "orientation": "v",
         "showlegend": false,
         "textposition": "auto",
         "type": "bar",
         "x": [
          "Family-friendly",
          "Theatre/Musical Theatre"
         ],
         "xaxis": "x2",
         "y": [
          10,
          48
         ],
         "yaxis": "y2"
        }
       ],
       "layout": {
        "annotations": [
         {
          "font": {},
          "showarrow": false,
          "text": "audience_type=Local",
          "x": 0.245,
          "xanchor": "center",
          "xref": "paper",
          "y": 1,
          "yanchor": "bottom",
          "yref": "paper"
         },
         {
          "font": {},
          "showarrow": false,
          "text": "audience_type=Tourist",
          "x": 0.755,
          "xanchor": "center",
          "xref": "paper",
          "y": 1,
          "yanchor": "bottom",
          "yref": "paper"
         }
        ],
        "barmode": "stack",
        "height": 360,
        "legend": {
         "title": {
          "text": "Ticket Type"
         },
         "tracegroupgap": 0
        },
        "template": {
         "data": {
          "bar": [
           {
            "error_x": {
             "color": "#2a3f5f"
            },
            "error_y": {
             "color": "#2a3f5f"
            },
            "marker": {
             "line": {
              "color": "#E5ECF6",
              "width": 0.5
             },
             "pattern": {
              "fillmode": "overlay",
              "size": 10,
              "solidity": 0.2
             }
            },
            "type": "bar"
           }
          ],
          "barpolar": [
           {
            "marker": {
             "line": {
              "color": "#E5ECF6",
              "width": 0.5
             },
             "pattern": {
              "fillmode": "overlay",
              "size": 10,
              "solidity": 0.2
             }
            },
            "type": "barpolar"
           }
          ],
          "carpet": [
           {
            "aaxis": {
             "endlinecolor": "#2a3f5f",
             "gridcolor": "white",
             "linecolor": "white",
             "minorgridcolor": "white",
             "startlinecolor": "#2a3f5f"
            },
            "baxis": {
             "endlinecolor": "#2a3f5f",
             "gridcolor": "white",
             "linecolor": "white",
             "minorgridcolor": "white",
             "startlinecolor": "#2a3f5f"
            },
            "type": "carpet"
           }
          ],
          "choropleth": [
           {
            "colorbar": {
             "outlinewidth": 0,
             "ticks": ""
            },
            "type": "choropleth"
           }
          ],
          "contour": [
           {
            "colorbar": {
             "outlinewidth": 0,
             "ticks": ""
            },
            "colorscale": [
             [
              0,
              "#0d0887"
             ],
             [
              0.1111111111111111,
              "#46039f"
             ],
             [
              0.2222222222222222,
              "#7201a8"
             ],
             [
              0.3333333333333333,
              "#9c179e"
             ],
             [
              0.4444444444444444,
              "#bd3786"
             ],
             [
              0.5555555555555556,
              "#d8576b"
             ],
             [
              0.6666666666666666,
              "#ed7953"
             ],
             [
              0.7777777777777778,
              "#fb9f3a"
             ],
             [
              0.8888888888888888,
              "#fdca26"
             ],
             [
              1,
              "#f0f921"
             ]
            ],
            "type": "contour"
           }
          ],
          "contourcarpet": [
           {
            "colorbar": {
             "outlinewidth": 0,
             "ticks": ""
            },
            "type": "contourcarpet"
           }
          ],
          "heatmap": [
           {
            "colorbar": {
             "outlinewidth": 0,
             "ticks": ""
            },
            "colorscale": [
             [
              0,
              "#0d0887"
             ],
             [
              0.1111111111111111,
              "#46039f"
             ],
             [
              0.2222222222222222,
              "#7201a8"
             ],
             [
              0.3333333333333333,
              "#9c179e"
             ],
             [
              0.4444444444444444,
              "#bd3786"
             ],
             [
              0.5555555555555556,
              "#d8576b"
             ],
             [
              0.6666666666666666,
              "#ed7953"
             ],
             [
              0.7777777777777778,
              "#fb9f3a"
             ],
             [
              0.8888888888888888,
              "#fdca26"
             ],
             [
              1,
              "#f0f921"
             ]
            ],
            "type": "heatmap"
           }
          ],
          "heatmapgl": [
           {
            "colorbar": {
             "outlinewidth": 0,
             "ticks": ""
            },
            "colorscale": [
             [
              0,
              "#0d0887"
             ],
             [
              0.1111111111111111,
              "#46039f"
             ],
             [
              0.2222222222222222,
              "#7201a8"
             ],
             [
              0.3333333333333333,
              "#9c179e"
             ],
             [
              0.4444444444444444,
              "#bd3786"
             ],
             [
              0.5555555555555556,
              "#d8576b"
             ],
             [
              0.6666666666666666,
              "#ed7953"
             ],
             [
              0.7777777777777778,
              "#fb9f3a"
             ],
             [
              0.8888888888888888,
              "#fdca26"
             ],
             [
              1,
              "#f0f921"
             ]
            ],
            "type": "heatmapgl"
           }
          ],
          "histogram": [
           {
            "marker": {
             "pattern": {
              "fillmode": "overlay",
              "size": 10,
              "solidity": 0.2
             }
            },
            "type": "histogram"
           }
          ],
          "histogram2d": [
           {
            "colorbar": {
             "outlinewidth": 0,
             "ticks": ""
            },
            "colorscale": [
             [
              0,
              "#0d0887"
             ],
             [
              0.1111111111111111,
              "#46039f"
             ],
             [
              0.2222222222222222,
              "#7201a8"
             ],
             [
              0.3333333333333333,
              "#9c179e"
             ],
             [
              0.4444444444444444,
              "#bd3786"
             ],
             [
              0.5555555555555556,
              "#d8576b"
             ],
             [
              0.6666666666666666,
              "#ed7953"
             ],
             [
              0.7777777777777778,
              "#fb9f3a"
             ],
             [
              0.8888888888888888,
              "#fdca26"
             ],
             [
              1,
              "#f0f921"
             ]
            ],
            "type": "histogram2d"
           }
          ],
          "histogram2dcontour": [
           {
            "colorbar": {
             "outlinewidth": 0,
             "ticks": ""
            },
            "colorscale": [
             [
              0,
              "#0d0887"
             ],
             [
              0.1111111111111111,
              "#46039f"
             ],
             [
              0.2222222222222222,
              "#7201a8"
             ],
             [
              0.3333333333333333,
              "#9c179e"
             ],
             [
              0.4444444444444444,
              "#bd3786"
             ],
             [
              0.5555555555555556,
              "#d8576b"
             ],
             [
              0.6666666666666666,
              "#ed7953"
             ],
             [
              0.7777777777777778,
              "#fb9f3a"
             ],
             [
              0.8888888888888888,
              "#fdca26"
             ],
             [
              1,
              "#f0f921"
             ]
            ],
            "type": "histogram2dcontour"
           }
          ],
          "mesh3d": [
           {
            "colorbar": {
             "outlinewidth": 0,
             "ticks": ""
            },
            "type": "mesh3d"
           }
          ],
          "parcoords": [
           {
            "line": {
             "colorbar": {
              "outlinewidth": 0,
              "ticks": ""
             }
            },
            "type": "parcoords"
           }
          ],
          "pie": [
           {
            "automargin": true,
            "type": "pie"
           }
          ],
          "scatter": [
           {
            "fillpattern": {
             "fillmode": "overlay",
             "size": 10,
             "solidity": 0.2
            },
            "type": "scatter"
           }
          ],
          "scatter3d": [
           {
            "line": {
             "colorbar": {
              "outlinewidth": 0,
              "ticks": ""
             }
            },
            "marker": {
             "colorbar": {
              "outlinewidth": 0,
              "ticks": ""
             }
            },
            "type": "scatter3d"
           }
          ],
          "scattercarpet": [
           {
            "marker": {
             "colorbar": {
              "outlinewidth": 0,
              "ticks": ""
             }
            },
            "type": "scattercarpet"
           }
          ],
          "scattergeo": [
           {
            "marker": {
             "colorbar": {
              "outlinewidth": 0,
              "ticks": ""
             }
            },
            "type": "scattergeo"
           }
          ],
          "scattergl": [
           {
            "marker": {
             "colorbar": {
              "outlinewidth": 0,
              "ticks": ""
             }
            },
            "type": "scattergl"
           }
          ],
          "scattermapbox": [
           {
            "marker": {
             "colorbar": {
              "outlinewidth": 0,
              "ticks": ""
             }
            },
            "type": "scattermapbox"
           }
          ],
          "scatterpolar": [
           {
            "marker": {
             "colorbar": {
              "outlinewidth": 0,
              "ticks": ""
             }
            },
            "type": "scatterpolar"
           }
          ],
          "scatterpolargl": [
           {
            "marker": {
             "colorbar": {
              "outlinewidth": 0,
              "ticks": ""
             }
            },
            "type": "scatterpolargl"
           }
          ],
          "scatterternary": [
           {
            "marker": {
             "colorbar": {
              "outlinewidth": 0,
              "ticks": ""
             }
            },
            "type": "scatterternary"
           }
          ],
          "surface": [
           {
            "colorbar": {
             "outlinewidth": 0,
             "ticks": ""
            },
            "colorscale": [
             [
              0,
              "#0d0887"
             ],
             [
              0.1111111111111111,
              "#46039f"
             ],
             [
              0.2222222222222222,
              "#7201a8"
             ],
             [
              0.3333333333333333,
              "#9c179e"
             ],
             [
              0.4444444444444444,
              "#bd3786"
             ],
             [
              0.5555555555555556,
              "#d8576b"
             ],
             [
              0.6666666666666666,
              "#ed7953"
             ],
             [
              0.7777777777777778,
              "#fb9f3a"
             ],
             [
              0.8888888888888888,
              "#fdca26"
             ],
             [
              1,
              "#f0f921"
             ]
            ],
            "type": "surface"
           }
          ],
          "table": [
           {
            "cells": {
             "fill": {
              "color": "#EBF0F8"
             },
             "line": {
              "color": "white"
             }
            },
            "header": {
             "fill": {
              "color": "#C8D4E3"
             },
             "line": {
              "color": "white"
             }
            },
            "type": "table"
           }
          ]
         },
         "layout": {
          "annotationdefaults": {
           "arrowcolor": "#2a3f5f",
           "arrowhead": 0,
           "arrowwidth": 1
          },
          "autotypenumbers": "strict",
          "coloraxis": {
           "colorbar": {
            "outlinewidth": 0,
            "ticks": ""
           }
          },
          "colorscale": {
           "diverging": [
            [
             0,
             "#8e0152"
            ],
            [
             0.1,
             "#c51b7d"
            ],
            [
             0.2,
             "#de77ae"
            ],
            [
             0.3,
             "#f1b6da"
            ],
            [
             0.4,
             "#fde0ef"
            ],
            [
             0.5,
             "#f7f7f7"
            ],
            [
             0.6,
             "#e6f5d0"
            ],
            [
             0.7,
             "#b8e186"
            ],
            [
             0.8,
             "#7fbc41"
            ],
            [
             0.9,
             "#4d9221"
            ],
            [
             1,
             "#276419"
            ]
           ],
           "sequential": [
            [
             0,
             "#0d0887"
            ],
            [
             0.1111111111111111,
             "#46039f"
            ],
            [
             0.2222222222222222,
             "#7201a8"
            ],
            [
             0.3333333333333333,
             "#9c179e"
            ],
            [
             0.4444444444444444,
             "#bd3786"
            ],
            [
             0.5555555555555556,
             "#d8576b"
            ],
            [
             0.6666666666666666,
             "#ed7953"
            ],
            [
             0.7777777777777778,
             "#fb9f3a"
            ],
            [
             0.8888888888888888,
             "#fdca26"
            ],
            [
             1,
             "#f0f921"
            ]
           ],
           "sequentialminus": [
            [
             0,
             "#0d0887"
            ],
            [
             0.1111111111111111,
             "#46039f"
            ],
            [
             0.2222222222222222,
             "#7201a8"
            ],
            [
             0.3333333333333333,
             "#9c179e"
            ],
            [
             0.4444444444444444,
             "#bd3786"
            ],
            [
             0.5555555555555556,
             "#d8576b"
            ],
            [
             0.6666666666666666,
             "#ed7953"
            ],
            [
             0.7777777777777778,
             "#fb9f3a"
            ],
            [
             0.8888888888888888,
             "#fdca26"
            ],
            [
             1,
             "#f0f921"
            ]
           ]
          },
          "colorway": [
           "#636efa",
           "#EF553B",
           "#00cc96",
           "#ab63fa",
           "#FFA15A",
           "#19d3f3",
           "#FF6692",
           "#B6E880",
           "#FF97FF",
           "#FECB52"
          ],
          "font": {
           "color": "#2a3f5f"
          },
          "geo": {
           "bgcolor": "white",
           "lakecolor": "white",
           "landcolor": "#E5ECF6",
           "showlakes": true,
           "showland": true,
           "subunitcolor": "white"
          },
          "hoverlabel": {
           "align": "left"
          },
          "hovermode": "closest",
          "mapbox": {
           "style": "light"
          },
          "paper_bgcolor": "white",
          "plot_bgcolor": "#E5ECF6",
          "polar": {
           "angularaxis": {
            "gridcolor": "white",
            "linecolor": "white",
            "ticks": ""
           },
           "bgcolor": "#E5ECF6",
           "radialaxis": {
            "gridcolor": "white",
            "linecolor": "white",
            "ticks": ""
           }
          },
          "scene": {
           "xaxis": {
            "backgroundcolor": "#E5ECF6",
            "gridcolor": "white",
            "gridwidth": 2,
            "linecolor": "white",
            "showbackground": true,
            "ticks": "",
            "zerolinecolor": "white"
           },
           "yaxis": {
            "backgroundcolor": "#E5ECF6",
            "gridcolor": "white",
            "gridwidth": 2,
            "linecolor": "white",
            "showbackground": true,
            "ticks": "",
            "zerolinecolor": "white"
           },
           "zaxis": {
            "backgroundcolor": "#E5ECF6",
            "gridcolor": "white",
            "gridwidth": 2,
            "linecolor": "white",
            "showbackground": true,
            "ticks": "",
            "zerolinecolor": "white"
           }
          },
          "shapedefaults": {
           "line": {
            "color": "#2a3f5f"
           }
          },
          "ternary": {
           "aaxis": {
            "gridcolor": "white",
            "linecolor": "white",
            "ticks": ""
           },
           "baxis": {
            "gridcolor": "white",
            "linecolor": "white",
            "ticks": ""
           },
           "bgcolor": "#E5ECF6",
           "caxis": {
            "gridcolor": "white",
            "linecolor": "white",
            "ticks": ""
           }
          },
          "title": {
           "x": 0.05
          },
          "xaxis": {
           "automargin": true,
           "gridcolor": "white",
           "linecolor": "white",
           "ticks": "",
           "title": {
            "standoff": 15
           },
           "zerolinecolor": "white",
           "zerolinewidth": 2
          },
          "yaxis": {
           "automargin": true,
           "gridcolor": "white",
           "linecolor": "white",
           "ticks": "",
           "title": {
            "standoff": 15
           },
           "zerolinecolor": "white",
           "zerolinewidth": 2
          }
         }
        },
        "title": {
         "text": "Ticket Type Popularity by Broad Sub-Genre (Music) and Audience Demographics",
         "x": 0.5
        },
        "xaxis": {
         "anchor": "y",
         "autorange": true,
         "categoryarray": [
          "Classical/Choral",
          "Experimental/Avant-Garde",
          "Family-friendly",
          "Jazz/Blues",
          "Live music",
          "Pop/Rock",
          "Theatre/Musical Theatre",
          "World/Folk"
         ],
         "categoryorder": "array",
         "domain": [
          0,
          0.49
         ],
         "range": [
          -0.5,
          7.5
         ],
         "title": {
          "text": "Music Broad Sub-Genre"
         },
         "type": "category"
        },
        "xaxis2": {
         "anchor": "y2",
         "autorange": true,
         "categoryarray": [
          "Classical/Choral",
          "Experimental/Avant-Garde",
          "Family-friendly",
          "Jazz/Blues",
          "Live music",
          "Pop/Rock",
          "Theatre/Musical Theatre",
          "World/Folk"
         ],
         "categoryorder": "array",
         "domain": [
          0.51,
          1
         ],
         "matches": "x",
         "range": [
          -0.5,
          7.5
         ],
         "title": {
          "text": "Music Broad Sub-Genre"
         },
         "type": "category"
        },
        "yaxis": {
         "anchor": "x",
         "autorange": true,
         "domain": [
          0,
          1
         ],
         "range": [
          0,
          34887.36842105263
         ],
         "title": {
          "text": "Ticket Count"
         },
         "type": "linear"
        },
        "yaxis2": {
         "anchor": "x2",
         "autorange": true,
         "domain": [
          0,
          1
         ],
         "matches": "y",
         "range": [
          0,
          34887.36842105263
         ],
         "showticklabels": false,
         "type": "linear"
        }
       }
      },
      "image/png": "[encoded data removed]",
      "text/html": [
       "<div>                            <div id=\"f49abfd5-209a-4904-9431-99f461f0f736\" class=\"plotly-graph-div\" style=\"height:525px; width:100%;\"></div>            <script type=\"text/javascript\">                require([\"plotly\"], function(Plotly) {                    window.PLOTLYENV=window.PLOTLYENV || {};                                    if (document.getElementById(\"f49abfd5-209a-4904-9431-99f461f0f736\")) {                    Plotly.newPlot(                        \"f49abfd5-209a-4904-9431-99f461f0f736\",                        [{\"alignmentgroup\":\"True\",\"hovertemplate\":\"Ticket Type=Discounted Tickets\\u003cbr\\u003eaudience_type=Local\\u003cbr\\u003eMusic Broad Sub-Genre=%{x}\\u003cbr\\u003eTicket Count=%{y}\\u003cextra\\u003e\\u003c\\u002fextra\\u003e\",\"legendgroup\":\"Discounted Tickets\",\"marker\":{\"color\":\"rgb(141,211,199)\",\"pattern\":{\"shape\":\"\"}},\"name\":\"Discounted Tickets\",\"offsetgroup\":\"Discounted Tickets\",\"orientation\":\"v\",\"showlegend\":true,\"textposition\":\"auto\",\"x\":[\"Classical\\u002fChoral\",\"Experimental\\u002fAvant-Garde\",\"Family-friendly\",\"Jazz\\u002fBlues\",\"Live music\",\"Pop\\u002fRock\",\"Theatre\\u002fMusical Theatre\",\"World\\u002fFolk\"],\"xaxis\":\"x\",\"y\":[1875,99,510,2841,190,1278,4562,619],\"yaxis\":\"y\",\"type\":\"bar\"},{\"alignmentgroup\":\"True\",\"hovertemplate\":\"Ticket Type=Discounted Tickets\\u003cbr\\u003eaudience_type=Tourist\\u003cbr\\u003eMusic Broad Sub-Genre=%{x}\\u003cbr\\u003eTicket Count=%{y}\\u003cextra\\u003e\\u003c\\u002fextra\\u003e\",\"legendgroup\":\"Discounted Tickets\",\"marker\":{\"color\":\"rgb(141,211,199)\",\"pattern\":{\"shape\":\"\"}},\"name\":\"Discounted Tickets\",\"offsetgroup\":\"Discounted Tickets\",\"orientation\":\"v\",\"showlegend\":false,\"textposition\":\"auto\",\"x\":[\"Classical\\u002fChoral\",\"Experimental\\u002fAvant-Garde\",\"Family-friendly\",\"Jazz\\u002fBlues\",\"Live music\",\"Pop\\u002fRock\",\"Theatre\\u002fMusical Theatre\",\"World\\u002fFolk\"],\"xaxis\":\"x2\",\"y\":[2833,288,645,4022,261,2197,8519,933],\"yaxis\":\"y2\",\"type\":\"bar\"},{\"alignmentgroup\":\"True\",\"hovertemplate\":\"Ticket Type=General Admission\\u003cbr\\u003eaudience_type=Local\\u003cbr\\u003eMusic Broad Sub-Genre=%{x}\\u003cbr\\u003eTicket Count=%{y}\\u003cextra\\u003e\\u003c\\u002fextra\\u003e\",\"legendgroup\":\"General Admission\",\"marker\":{\"color\":\"rgb(255,255,179)\",\"pattern\":{\"shape\":\"\"}},\"name\":\"General Admission\",\"offsetgroup\":\"General Admission\",\"orientation\":\"v\",\"showlegend\":true,\"textposition\":\"auto\",\"x\":[\"Classical\\u002fChoral\",\"Experimental\\u002fAvant-Garde\",\"Family-friendly\",\"Jazz\\u002fBlues\",\"Live music\",\"Pop\\u002fRock\",\"Theatre\\u002fMusical Theatre\",\"World\\u002fFolk\"],\"xaxis\":\"x\",\"y\":[3593,236,678,5457,367,2646,11302,884],\"yaxis\":\"y\",\"type\":\"bar\"},{\"alignmentgroup\":\"True\",\"hovertemplate\":\"Ticket Type=General Admission\\u003cbr\\u003eaudience_type=Tourist\\u003cbr\\u003eMusic Broad Sub-Genre=%{x}\\u003cbr\\u003eTicket Count=%{y}\\u003cextra\\u003e\\u003c\\u002fextra\\u003e\",\"legendgroup\":\"General Admission\",\"marker\":{\"color\":\"rgb(255,255,179)\",\"pattern\":{\"shape\":\"\"}},\"name\":\"General Admission\",\"offsetgroup\":\"General Admission\",\"orientation\":\"v\",\"showlegend\":false,\"textposition\":\"auto\",\"x\":[\"Classical\\u002fChoral\",\"Experimental\\u002fAvant-Garde\",\"Family-friendly\",\"Jazz\\u002fBlues\",\"Live music\",\"Pop\\u002fRock\",\"Theatre\\u002fMusical Theatre\",\"World\\u002fFolk\"],\"xaxis\":\"x2\",\"y\":[5658,646,1033,8412,497,4505,20307,1614],\"yaxis\":\"y2\",\"type\":\"bar\"},{\"alignmentgroup\":\"True\",\"hovertemplate\":\"Ticket Type=Other\\u003cbr\\u003eaudience_type=Local\\u003cbr\\u003eMusic Broad Sub-Genre=%{x}\\u003cbr\\u003eTicket Count=%{y}\\u003cextra\\u003e\\u003c\\u002fextra\\u003e\",\"legendgroup\":\"Other\",\"marker\":{\"color\":\"rgb(190,186,218)\",\"pattern\":{\"shape\":\"\"}},\"name\":\"Other\",\"offsetgroup\":\"Other\",\"orientation\":\"v\",\"showlegend\":true,\"textposition\":\"auto\",\"x\":[\"Classical\\u002fChoral\",\"Experimental\\u002fAvant-Garde\",\"Family-friendly\",\"Jazz\\u002fBlues\",\"Live music\",\"Pop\\u002fRock\",\"Theatre\\u002fMusical Theatre\",\"World\\u002fFolk\"],\"xaxis\":\"x\",\"y\":[1429,137,902,1718,86,827,3810,398],\"yaxis\":\"y\",\"type\":\"bar\"},{\"alignmentgroup\":\"True\",\"hovertemplate\":\"Ticket Type=Other\\u003cbr\\u003eaudience_type=Tourist\\u003cbr\\u003eMusic Broad Sub-Genre=%{x}\\u003cbr\\u003eTicket Count=%{y}\\u003cextra\\u003e\\u003c\\u002fextra\\u003e\",\"legendgroup\":\"Other\",\"marker\":{\"color\":\"rgb(190,186,218)\",\"pattern\":{\"shape\":\"\"}},\"name\":\"Other\",\"offsetgroup\":\"Other\",\"orientation\":\"v\",\"showlegend\":false,\"textposition\":\"auto\",\"x\":[\"Classical\\u002fChoral\",\"Experimental\\u002fAvant-Garde\",\"Family-friendly\",\"Jazz\\u002fBlues\",\"Live music\",\"Pop\\u002fRock\",\"Theatre\\u002fMusical Theatre\",\"World\\u002fFolk\"],\"xaxis\":\"x2\",\"y\":[1144,166,890,1389,94,1035,4156,353],\"yaxis\":\"y2\",\"type\":\"bar\"},{\"alignmentgroup\":\"True\",\"hovertemplate\":\"Ticket Type=Pay What You Can\\u003cbr\\u003eaudience_type=Local\\u003cbr\\u003eMusic Broad Sub-Genre=%{x}\\u003cbr\\u003eTicket Count=%{y}\\u003cextra\\u003e\\u003c\\u002fextra\\u003e\",\"legendgroup\":\"Pay What You Can\",\"marker\":{\"color\":\"rgb(251,128,114)\",\"pattern\":{\"shape\":\"\"}},\"name\":\"Pay What You Can\",\"offsetgroup\":\"Pay What You Can\",\"orientation\":\"v\",\"showlegend\":true,\"textposition\":\"auto\",\"x\":[\"Classical\\u002fChoral\",\"Experimental\\u002fAvant-Garde\",\"Family-friendly\",\"Jazz\\u002fBlues\",\"Pop\\u002fRock\",\"Theatre\\u002fMusical Theatre\"],\"xaxis\":\"x\",\"y\":[5,6,366,44,46,40],\"yaxis\":\"y\",\"type\":\"bar\"},{\"alignmentgroup\":\"True\",\"hovertemplate\":\"Ticket Type=Pay What You Can\\u003cbr\\u003eaudience_type=Tourist\\u003cbr\\u003eMusic Broad Sub-Genre=%{x}\\u003cbr\\u003eTicket Count=%{y}\\u003cextra\\u003e\\u003c\\u002fextra\\u003e\",\"legendgroup\":\"Pay What You Can\",\"marker\":{\"color\":\"rgb(251,128,114)\",\"pattern\":{\"shape\":\"\"}},\"name\":\"Pay What You Can\",\"offsetgroup\":\"Pay What You Can\",\"orientation\":\"v\",\"showlegend\":false,\"textposition\":\"auto\",\"x\":[\"Classical\\u002fChoral\",\"Experimental\\u002fAvant-Garde\",\"Family-friendly\",\"Jazz\\u002fBlues\",\"Pop\\u002fRock\",\"Theatre\\u002fMusical Theatre\"],\"xaxis\":\"x2\",\"y\":[10,16,511,95,68,113],\"yaxis\":\"y2\",\"type\":\"bar\"},{\"alignmentgroup\":\"True\",\"hovertemplate\":\"Ticket Type=VIP or Premium\\u003cbr\\u003eaudience_type=Local\\u003cbr\\u003eMusic Broad Sub-Genre=%{x}\\u003cbr\\u003eTicket Count=%{y}\\u003cextra\\u003e\\u003c\\u002fextra\\u003e\",\"legendgroup\":\"VIP or Premium\",\"marker\":{\"color\":\"rgb(128,177,211)\",\"pattern\":{\"shape\":\"\"}},\"name\":\"VIP or Premium\",\"offsetgroup\":\"VIP or Premium\",\"orientation\":\"v\",\"showlegend\":true,\"textposition\":\"auto\",\"x\":[\"Family-friendly\",\"Theatre\\u002fMusical Theatre\"],\"xaxis\":\"x\",\"y\":[5,7],\"yaxis\":\"y\",\"type\":\"bar\"},{\"alignmentgroup\":\"True\",\"hovertemplate\":\"Ticket Type=VIP or Premium\\u003cbr\\u003eaudience_type=Tourist\\u003cbr\\u003eMusic Broad Sub-Genre=%{x}\\u003cbr\\u003eTicket Count=%{y}\\u003cextra\\u003e\\u003c\\u002fextra\\u003e\",\"legendgroup\":\"VIP or Premium\",\"marker\":{\"color\":\"rgb(128,177,211)\",\"pattern\":{\"shape\":\"\"}},\"name\":\"VIP or Premium\",\"offsetgroup\":\"VIP or Premium\",\"orientation\":\"v\",\"showlegend\":false,\"textposition\":\"auto\",\"x\":[\"Family-friendly\",\"Theatre\\u002fMusical Theatre\"],\"xaxis\":\"x2\",\"y\":[10,48],\"yaxis\":\"y2\",\"type\":\"bar\"}],                        {\"template\":{\"data\":{\"histogram2dcontour\":[{\"type\":\"histogram2dcontour\",\"colorbar\":{\"outlinewidth\":0,\"ticks\":\"\"},\"colorscale\":[[0.0,\"#0d0887\"],[0.1111111111111111,\"#46039f\"],[0.2222222222222222,\"#7201a8\"],[0.3333333333333333,\"#9c179e\"],[0.4444444444444444,\"#bd3786\"],[0.5555555555555556,\"#d8576b\"],[0.6666666666666666,\"#ed7953\"],[0.7777777777777778,\"#fb9f3a\"],[0.8888888888888888,\"#fdca26\"],[1.0,\"#f0f921\"]]}],\"choropleth\":[{\"type\":\"choropleth\",\"colorbar\":{\"outlinewidth\":0,\"ticks\":\"\"}}],\"histogram2d\":[{\"type\":\"histogram2d\",\"colorbar\":{\"outlinewidth\":0,\"ticks\":\"\"},\"colorscale\":[[0.0,\"#0d0887\"],[0.1111111111111111,\"#46039f\"],[0.2222222222222222,\"#7201a8\"],[0.3333333333333333,\"#9c179e\"],[0.4444444444444444,\"#bd3786\"],[0.5555555555555556,\"#d8576b\"],[0.6666666666666666,\"#ed7953\"],[0.7777777777777778,\"#fb9f3a\"],[0.8888888888888888,\"#fdca26\"],[1.0,\"#f0f921\"]]}],\"heatmap\":[{\"type\":\"heatmap\",\"colorbar\":{\"outlinewidth\":0,\"ticks\":\"\"},\"colorscale\":[[0.0,\"#0d0887\"],[0.1111111111111111,\"#46039f\"],[0.2222222222222222,\"#7201a8\"],[0.3333333333333333,\"#9c179e\"],[0.4444444444444444,\"#bd3786\"],[0.5555555555555556,\"#d8576b\"],[0.6666666666666666,\"#ed7953\"],[0.7777777777777778,\"#fb9f3a\"],[0.8888888888888888,\"#fdca26\"],[1.0,\"#f0f921\"]]}],\"heatmapgl\":[{\"type\":\"heatmapgl\",\"colorbar\":{\"outlinewidth\":0,\"ticks\":\"\"},\"colorscale\":[[0.0,\"#0d0887\"],[0.1111111111111111,\"#46039f\"],[0.2222222222222222,\"#7201a8\"],[0.3333333333333333,\"#9c179e\"],[0.4444444444444444,\"#bd3786\"],[0.5555555555555556,\"#d8576b\"],[0.6666666666666666,\"#ed7953\"],[0.7777777777777778,\"#fb9f3a\"],[0.8888888888888888,\"#fdca26\"],[1.0,\"#f0f921\"]]}],\"contourcarpet\":[{\"type\":\"contourcarpet\",\"colorbar\":{\"outlinewidth\":0,\"ticks\":\"\"}}],\"contour\":[{\"type\":\"contour\",\"colorbar\":{\"outlinewidth\":0,\"ticks\":\"\"},\"colorscale\":[[0.0,\"#0d0887\"],[0.1111111111111111,\"#46039f\"],[0.2222222222222222,\"#7201a8\"],[0.3333333333333333,\"#9c179e\"],[0.4444444444444444,\"#bd3786\"],[0.5555555555555556,\"#d8576b\"],[0.6666666666666666,\"#ed7953\"],[0.7777777777777778,\"#fb9f3a\"],[0.8888888888888888,\"#fdca26\"],[1.0,\"#f0f921\"]]}],\"surface\":[{\"type\":\"surface\",\"colorbar\":{\"outlinewidth\":0,\"ticks\":\"\"},\"colorscale\":[[0.0,\"#0d0887\"],[0.1111111111111111,\"#46039f\"],[0.2222222222222222,\"#7201a8\"],[0.3333333333333333,\"#9c179e\"],[0.4444444444444444,\"#bd3786\"],[0.5555555555555556,\"#d8576b\"],[0.6666666666666666,\"#ed7953\"],[0.7777777777777778,\"#fb9f3a\"],[0.8888888888888888,\"#fdca26\"],[1.0,\"#f0f921\"]]}],\"mesh3d\":[{\"type\":\"mesh3d\",\"colorbar\":{\"outlinewidth\":0,\"ticks\":\"\"}}],\"scatter\":[{\"fillpattern\":{\"fillmode\":\"overlay\",\"size\":10,\"solidity\":0.2},\"type\":\"scatter\"}],\"parcoords\":[{\"type\":\"parcoords\",\"line\":{\"colorbar\":{\"outlinewidth\":0,\"ticks\":\"\"}}}],\"scatterpolargl\":[{\"type\":\"scatterpolargl\",\"marker\":{\"colorbar\":{\"outlinewidth\":0,\"ticks\":\"\"}}}],\"bar\":[{\"error_x\":{\"color\":\"#2a3f5f\"},\"error_y\":{\"color\":\"#2a3f5f\"},\"marker\":{\"line\":{\"color\":\"#E5ECF6\",\"width\":0.5},\"pattern\":{\"fillmode\":\"overlay\",\"size\":10,\"solidity\":0.2}},\"type\":\"bar\"}],\"scattergeo\":[{\"type\":\"scattergeo\",\"marker\":{\"colorbar\":{\"outlinewidth\":0,\"ticks\":\"\"}}}],\"scatterpolar\":[{\"type\":\"scatterpolar\",\"marker\":{\"colorbar\":{\"outlinewidth\":0,\"ticks\":\"\"}}}],\"histogram\":[{\"marker\":{\"pattern\":{\"fillmode\":\"overlay\",\"size\":10,\"solidity\":0.2}},\"type\":\"histogram\"}],\"scattergl\":[{\"type\":\"scattergl\",\"marker\":{\"colorbar\":{\"outlinewidth\":0,\"ticks\":\"\"}}}],\"scatter3d\":[{\"type\":\"scatter3d\",\"line\":{\"colorbar\":{\"outlinewidth\":0,\"ticks\":\"\"}},\"marker\":{\"colorbar\":{\"outlinewidth\":0,\"ticks\":\"\"}}}],\"scattermapbox\":[{\"type\":\"scattermapbox\",\"marker\":{\"colorbar\":{\"outlinewidth\":0,\"ticks\":\"\"}}}],\"scatterternary\":[{\"type\":\"scatterternary\",\"marker\":{\"colorbar\":{\"outlinewidth\":0,\"ticks\":\"\"}}}],\"scattercarpet\":[{\"type\":\"scattercarpet\",\"marker\":{\"colorbar\":{\"outlinewidth\":0,\"ticks\":\"\"}}}],\"carpet\":[{\"aaxis\":{\"endlinecolor\":\"#2a3f5f\",\"gridcolor\":\"white\",\"linecolor\":\"white\",\"minorgridcolor\":\"white\",\"startlinecolor\":\"#2a3f5f\"},\"baxis\":{\"endlinecolor\":\"#2a3f5f\",\"gridcolor\":\"white\",\"linecolor\":\"white\",\"minorgridcolor\":\"white\",\"startlinecolor\":\"#2a3f5f\"},\"type\":\"carpet\"}],\"table\":[{\"cells\":{\"fill\":{\"color\":\"#EBF0F8\"},\"line\":{\"color\":\"white\"}},\"header\":{\"fill\":{\"color\":\"#C8D4E3\"},\"line\":{\"color\":\"white\"}},\"type\":\"table\"}],\"barpolar\":[{\"marker\":{\"line\":{\"color\":\"#E5ECF6\",\"width\":0.5},\"pattern\":{\"fillmode\":\"overlay\",\"size\":10,\"solidity\":0.2}},\"type\":\"barpolar\"}],\"pie\":[{\"automargin\":true,\"type\":\"pie\"}]},\"layout\":{\"autotypenumbers\":\"strict\",\"colorway\":[\"#636efa\",\"#EF553B\",\"#00cc96\",\"#ab63fa\",\"#FFA15A\",\"#19d3f3\",\"#FF6692\",\"#B6E880\",\"#FF97FF\",\"#FECB52\"],\"font\":{\"color\":\"#2a3f5f\"},\"hovermode\":\"closest\",\"hoverlabel\":{\"align\":\"left\"},\"paper_bgcolor\":\"white\",\"plot_bgcolor\":\"#E5ECF6\",\"polar\":{\"bgcolor\":\"#E5ECF6\",\"angularaxis\":{\"gridcolor\":\"white\",\"linecolor\":\"white\",\"ticks\":\"\"},\"radialaxis\":{\"gridcolor\":\"white\",\"linecolor\":\"white\",\"ticks\":\"\"}},\"ternary\":{\"bgcolor\":\"#E5ECF6\",\"aaxis\":{\"gridcolor\":\"white\",\"linecolor\":\"white\",\"ticks\":\"\"},\"baxis\":{\"gridcolor\":\"white\",\"linecolor\":\"white\",\"ticks\":\"\"},\"caxis\":{\"gridcolor\":\"white\",\"linecolor\":\"white\",\"ticks\":\"\"}},\"coloraxis\":{\"colorbar\":{\"outlinewidth\":0,\"ticks\":\"\"}},\"colorscale\":{\"sequential\":[[0.0,\"#0d0887\"],[0.1111111111111111,\"#46039f\"],[0.2222222222222222,\"#7201a8\"],[0.3333333333333333,\"#9c179e\"],[0.4444444444444444,\"#bd3786\"],[0.5555555555555556,\"#d8576b\"],[0.6666666666666666,\"#ed7953\"],[0.7777777777777778,\"#fb9f3a\"],[0.8888888888888888,\"#fdca26\"],[1.0,\"#f0f921\"]],\"sequentialminus\":[[0.0,\"#0d0887\"],[0.1111111111111111,\"#46039f\"],[0.2222222222222222,\"#7201a8\"],[0.3333333333333333,\"#9c179e\"],[0.4444444444444444,\"#bd3786\"],[0.5555555555555556,\"#d8576b\"],[0.6666666666666666,\"#ed7953\"],[0.7777777777777778,\"#fb9f3a\"],[0.8888888888888888,\"#fdca26\"],[1.0,\"#f0f921\"]],\"diverging\":[[0,\"#8e0152\"],[0.1,\"#c51b7d\"],[0.2,\"#de77ae\"],[0.3,\"#f1b6da\"],[0.4,\"#fde0ef\"],[0.5,\"#f7f7f7\"],[0.6,\"#e6f5d0\"],[0.7,\"#b8e186\"],[0.8,\"#7fbc41\"],[0.9,\"#4d9221\"],[1,\"#276419\"]]},\"xaxis\":{\"gridcolor\":\"white\",\"linecolor\":\"white\",\"ticks\":\"\",\"title\":{\"standoff\":15},\"zerolinecolor\":\"white\",\"automargin\":true,\"zerolinewidth\":2},\"yaxis\":{\"gridcolor\":\"white\",\"linecolor\":\"white\",\"ticks\":\"\",\"title\":{\"standoff\":15},\"zerolinecolor\":\"white\",\"automargin\":true,\"zerolinewidth\":2},\"scene\":{\"xaxis\":{\"backgroundcolor\":\"#E5ECF6\",\"gridcolor\":\"white\",\"linecolor\":\"white\",\"showbackground\":true,\"ticks\":\"\",\"zerolinecolor\":\"white\",\"gridwidth\":2},\"yaxis\":{\"backgroundcolor\":\"#E5ECF6\",\"gridcolor\":\"white\",\"linecolor\":\"white\",\"showbackground\":true,\"ticks\":\"\",\"zerolinecolor\":\"white\",\"gridwidth\":2},\"zaxis\":{\"backgroundcolor\":\"#E5ECF6\",\"gridcolor\":\"white\",\"linecolor\":\"white\",\"showbackground\":true,\"ticks\":\"\",\"zerolinecolor\":\"white\",\"gridwidth\":2}},\"shapedefaults\":{\"line\":{\"color\":\"#2a3f5f\"}},\"annotationdefaults\":{\"arrowcolor\":\"#2a3f5f\",\"arrowhead\":0,\"arrowwidth\":1},\"geo\":{\"bgcolor\":\"white\",\"landcolor\":\"#E5ECF6\",\"subunitcolor\":\"white\",\"showland\":true,\"showlakes\":true,\"lakecolor\":\"white\"},\"title\":{\"x\":0.05},\"mapbox\":{\"style\":\"light\"}}},\"xaxis\":{\"anchor\":\"y\",\"domain\":[0.0,0.49],\"title\":{\"text\":\"Music Broad Sub-Genre\"},\"categoryorder\":\"array\",\"categoryarray\":[\"Classical\\u002fChoral\",\"Experimental\\u002fAvant-Garde\",\"Family-friendly\",\"Jazz\\u002fBlues\",\"Live music\",\"Pop\\u002fRock\",\"Theatre\\u002fMusical Theatre\",\"World\\u002fFolk\"]},\"yaxis\":{\"anchor\":\"x\",\"domain\":[0.0,1.0],\"title\":{\"text\":\"Ticket Count\"}},\"xaxis2\":{\"anchor\":\"y2\",\"domain\":[0.51,1.0],\"matches\":\"x\",\"title\":{\"text\":\"Music Broad Sub-Genre\"},\"categoryorder\":\"array\",\"categoryarray\":[\"Classical\\u002fChoral\",\"Experimental\\u002fAvant-Garde\",\"Family-friendly\",\"Jazz\\u002fBlues\",\"Live music\",\"Pop\\u002fRock\",\"Theatre\\u002fMusical Theatre\",\"World\\u002fFolk\"]},\"yaxis2\":{\"anchor\":\"x2\",\"domain\":[0.0,1.0],\"matches\":\"y\",\"showticklabels\":false},\"annotations\":[{\"font\":{},\"showarrow\":false,\"text\":\"audience_type=Local\",\"x\":0.245,\"xanchor\":\"center\",\"xref\":\"paper\",\"y\":1.0,\"yanchor\":\"bottom\",\"yref\":\"paper\"},{\"font\":{},\"showarrow\":false,\"text\":\"audience_type=Tourist\",\"x\":0.755,\"xanchor\":\"center\",\"xref\":\"paper\",\"y\":1.0,\"yanchor\":\"bottom\",\"yref\":\"paper\"}],\"legend\":{\"title\":{\"text\":\"Ticket Type\"},\"tracegroupgap\":0},\"title\":{\"text\":\"Ticket Type Popularity by Broad Sub-Genre (Music) and Audience Demographics\",\"x\":0.5},\"barmode\":\"stack\"},                        {\"responsive\": true}                    ).then(function(){\n",
       "                            \n",
       "var gd = document.getElementById('f49abfd5-209a-4904-9431-99f461f0f736');\n",
       "var x = new MutationObserver(function (mutations, observer) {{\n",
       "        var display = window.getComputedStyle(gd).display;\n",
       "        if (!display || display === 'none') {{\n",
       "            console.log([gd, 'removed!']);\n",
       "            Plotly.purge(gd);\n",
       "            observer.disconnect();\n",
       "        }}\n",
       "}});\n",
       "\n",
       "// Listen for the removal of the full notebook cells\n",
       "var notebookContainer = gd.closest('#notebook-container');\n",
       "if (notebookContainer) {{\n",
       "    x.observe(notebookContainer, {childList: true});\n",
       "}}\n",
       "\n",
       "// Listen for the clearing of the current output cell\n",
       "var outputEl = gd.closest('.output');\n",
       "if (outputEl) {{\n",
       "    x.observe(outputEl, {childList: true});\n",
       "}}\n",
       "\n",
       "                        })                };                });            </script>        </div>"
      ]
     },
     "metadata": {},
     "output_type": "display_data"
    }
   ],
   "source": [
    "# Defining a mapping for broader sub-genre categories\n",
    "subgenre_map = {\n",
    "    'Live music': 'Live music',\n",
    "    'Classical': 'Classical/Choral',\n",
    "    'Choral': 'Classical/Choral',\n",
    "    'Vocal': 'Classical/Choral',\n",
    "    'Music': 'Classical/Choral',\n",
    "    'A cappella': 'Classical/Choral',\n",
    "    'Acoustic':'Classical/Choral',\n",
    "    'Pop': 'Pop/Rock',\n",
    "    'Rock': 'Pop/Rock',\n",
    "    'Indie': 'Pop/Rock',\n",
    "    'Funk': 'Pop/Rock',\n",
    "    'Contemporary': 'Pop/Rock',\n",
    "    'Dance': 'Pop/Rock',\n",
    "    'Cabaret': 'Jazz/Blues',\n",
    "    'Jazz': 'Jazz/Blues',\n",
    "    'Blues': 'Jazz/Blues',\n",
    "    'Soul': 'Jazz/Blues',\n",
    "    'Swing': 'Jazz/Blues',\n",
    "    'Tribute': 'World/Folk',\n",
    "    'Flamenco': 'World/Folk',\n",
    "    'World music': 'World/Folk',\n",
    "    'Folk': 'World/Folk',\n",
    "    'Disabled-led': 'Experimental/Avant-Garde',\n",
    "    'Experimental': 'Experimental/Avant-Garde',\n",
    "    'Poetry': 'Experimental/Avant-Garde',\n",
    "    'Avant-Garde': 'Experimental/Avant-Garde',\n",
    "    'Musical theatre': 'Theatre/Musical Theatre',\n",
    "    'Opera': 'Theatre/Musical Theatre',\n",
    "    'Musical Comedy': 'Theatre/Musical Theatre',\n",
    "    'Alternative comedy': 'Theatre/Musical Theatre',\n",
    "    'Theatre': 'Theatre/Musical Theatre',\n",
    "    \"Children's show\": 'Family-friendly',\n",
    "    'Family-friendly': 'Family-friendly',\n",
    "    \n",
    "}\n",
    "\n",
    "# Applying mapping to create broader sub-genre categories\n",
    "data['broad_subgenre'] = data['subgenre1'].map(subgenre_map)\n",
    "\n",
    "# Defining a mapping for ticket type grouping\n",
    "ticket_type_map = {\n",
    "    'Concession': 'Discounted Tickets',\n",
    "    'Student': 'Discounted Tickets',\n",
    "    'Senior Citizen': 'Discounted Tickets',\n",
    "    'Fringe Friend': 'Discounted Tickets',\n",
    "    'Full Price': 'General Admission',\n",
    "    'General Admission': 'General Admission',\n",
    "    'VIP': 'VIP or Premium',\n",
    "    'Sirloin Seat': 'VIP or Premium',\n",
    "    'Pay What You Can - £5.00': 'Pay What You Can',\n",
    "    'Pay What You Can - £10.00': 'Pay What You Can',\n",
    "    'Family Ticket': 'Other',\n",
    "    'Under 16 Special': 'Other',\n",
    "}\n",
    "\n",
    "# Applying mapping to create combined ticket types\n",
    "data['combined_ticket_type'] = data['ticket_type'].map(ticket_type_map).fillna('Other')\n",
    "\n",
    "# Defining audience demographic as 'Local' or 'Tourist' based on postcode\n",
    "data['audience_type'] = data['customer_postcode'].apply(lambda x: 'Local' if x.startswith('EH') else 'Tourist')\n",
    "\n",
    "# Aggregating the data to get ticket counts by broad sub-genre and demographic\n",
    "agg_data = data.groupby(['broad_subgenre', 'audience_type', 'combined_ticket_type']).size().reset_index(name='count')\n",
    "\n",
    "\n",
    "import plotly.express as px\n",
    "\n",
    "# Creating the stacked bar chart\n",
    "fig = px.bar(\n",
    "    agg_data,\n",
    "    x='broad_subgenre',\n",
    "    y='count',\n",
    "    color='combined_ticket_type',\n",
    "    facet_col='audience_type',  # Separate charts for Local and Tourist audiences\n",
    "    title='Ticket Type Popularity by Broad Sub-Genre (Music) and Audience Demographics',\n",
    "    labels={\n",
    "        'broad_subgenre': 'Music Broad Sub-Genre',\n",
    "        'count': 'Ticket Count',\n",
    "        'combined_ticket_type': 'Ticket Type'\n",
    "    },\n",
    "    category_orders={'broad_subgenre': agg_data['broad_subgenre'].unique()},\n",
    "    color_discrete_sequence=px.colors.qualitative.Set3  # Setting colour scheme for readability\n",
    ")\n",
    "\n",
    "# Customizing the layout\n",
    "fig.update_layout(\n",
    "    barmode='stack',\n",
    "    xaxis_title='Music Broad Sub-Genre',\n",
    "    yaxis_title='Ticket Count',\n",
    "    legend_title='Ticket Type',\n",
    "    title_x=0.5,\n",
    ")\n",
    "\n",
    "fig.show()\n"
   ]
  },
  {
   "cell_type": "markdown",
   "metadata": {},
   "source": [
    "**Output**\n",
    "\n",
    "Local Audience: Locals show a strong preference for \"Discounted Tickets\" and \"General Admission\" across popular sub-genres such as \"Jazz/Blues\" and \"Theatre/Musical Theatre.\" This trend suggests that locals may be more cost-conscious, favoring accessible options that allow them to explore a variety of experiences without a significant financial commitment.\n",
    "\n",
    "Tourist Audience: Tourists, on the other hand, sometimes lean towards \"General Admission\" and \"VIP or Premium\" ticket types, especially in sub-genres like \"Jazz/Blues\" and \"World/Folk.\" This pattern implies that tourists are more inclined to invest in premium experiences, possibly looking for unique or immersive encounters that enhance their festival experience.\n",
    "\n",
    "Sub-Genre Trends: Sub-genres like \"Family-friendly\" and \"Experimental/Avant-Garde\" show a diverse mix of ticket types, catering to both locals with discounted options and tourists with VIP preferences. This indicates these genres' broad appeal, attracting both price-sensitive attendees and those willing to pay for premium experiences.\n",
    "\n",
    "**Insight**\n",
    "\n",
    "Emotional Pathways: Recognizing that locals prefer accessible ticket types and tourists lean towards premium experiences in specific genres can guide organizers in designing event pathways that align with these emotional expectations. For example, organizing high-energy, affordable experiences for locals and creating more exclusive, immersive options for tourists.\n",
    "\n",
    "Curated Experiences: The insights can be used to optimize ticket offerings and enhance the overall festival experience. By clustering affordable events in popular genres for locals and offering VIP or bundled experiences in tourist-preferred genres, organizers can create curated pathways that align with audience expectations for engagement, cost, and immersion, enhancing the emotional journey for both locals and tourists.\n"
   ]
  },
  {
   "cell_type": "markdown",
   "metadata": {},
   "source": [
    "## 3. Engagement Timeline of \"High Energy\" or \"Immersive Experiences\"\n",
    "\n",
    "**Background**\n",
    "\n",
    "At a dynamic festival like the Edinburgh Fringe, audience energy levels fluctuate throughout the day as attendees move through a variety of experiences. Immersive and high-energy events play a key role in shaping the festival-goers' emotional journey, providing moments of heightened engagement that contribute to their overall experience arc. Identifying when audiences are most responsive to these events allows organizers to strategically position immersive experiences to enhance the festival’s emotional rhythm.\n",
    "\n",
    "**Motivation**\n",
    "\n",
    "The goal of this exploration is to understand the ideal times of day for immersive, high-energy events, contributing to the broader objective of mapping the “Emotional Arc\". By pinpointing peak engagement periods, organizers can design a cohesive narrative flow, creating a balanced emotional journey that aligns with natural audience energy levels, and ensuring that high-impact events occur at optimal times.\n",
    "\n",
    "**Process**\n",
    "\n",
    "Data Loading and Filtering:\n",
    "\n",
    "The dataset is loaded, and a specific list of \"high-energy\" and \"immersive\" sub-genres (immersive_genres) is defined, focusing on genres like \"Hip Hop,\" \"Pop,\" \"Rock,\" and \"Musical Comedy.\" The data is filtered to include only rows where subgenre1 matches these immersive genres.\n",
    "\n",
    "Datetime Parsing and Extraction:\n",
    "\n",
    "The performance_datetime column is converted to datetime format. An hour column is created to capture the hour of each performance, allowing for analysis of hourly attendance trends.\n",
    "\n",
    "Hourly Attendance Calculation:\n",
    "\n",
    "The data is grouped by hour, and the number of performances (attendance counts) is calculated for each hour, creating a summary of how many attendees are engaged at different times of day.\n",
    "\n",
    "Visualization with Altair:\n",
    "\n",
    "An area chart is created with Altair to display the engagement timeline.\n",
    "A gradient fill (light to dark blue) is used for visual appeal, and the chart's opacity is adjusted for a smooth look. The x axis shows the hour of the day, while the y axis represents attendance counts. Tooltips are added to show exact attendance numbers on hover.\n"
   ]
  },
  {
   "cell_type": "code",
   "execution_count": 50,
   "metadata": {},
   "outputs": [
    {
     "data": {
      "text/html": [
       "\n",
       "<style>\n",
       "  #altair-viz-378aab4189b548839e930cdd3ab95500.vega-embed {\n",
       "    width: 100%;\n",
       "    display: flex;\n",
       "  }\n",
       "\n",
       "  #altair-viz-378aab4189b548839e930cdd3ab95500.vega-embed details,\n",
       "  #altair-viz-378aab4189b548839e930cdd3ab95500.vega-embed details summary {\n",
       "    position: relative;\n",
       "  }\n",
       "</style>\n",
       "<div id=\"altair-viz-378aab4189b548839e930cdd3ab95500\"></div>\n",
       "<script type=\"text/javascript\">\n",
       "  var VEGA_DEBUG = (typeof VEGA_DEBUG == \"undefined\") ? {} : VEGA_DEBUG;\n",
       "  (function(spec, embedOpt){\n",
       "    let outputDiv = document.currentScript.previousElementSibling;\n",
       "    if (outputDiv.id !== \"altair-viz-378aab4189b548839e930cdd3ab95500\") {\n",
       "      outputDiv = document.getElementById(\"altair-viz-378aab4189b548839e930cdd3ab95500\");\n",
       "    }\n",
       "    const paths = {\n",
       "      \"vega\": \"https://cdn.jsdelivr.net/npm/vega@5?noext\",\n",
       "      \"vega-lib\": \"https://cdn.jsdelivr.net/npm/vega-lib?noext\",\n",
       "      \"vega-lite\": \"https://cdn.jsdelivr.net/npm/vega-lite@5.20.1?noext\",\n",
       "      \"vega-embed\": \"https://cdn.jsdelivr.net/npm/vega-embed@6?noext\",\n",
       "    };\n",
       "\n",
       "    function maybeLoadScript(lib, version) {\n",
       "      var key = `${lib.replace(\"-\", \"\")}_version`;\n",
       "      return (VEGA_DEBUG[key] == version) ?\n",
       "        Promise.resolve(paths[lib]) :\n",
       "        new Promise(function(resolve, reject) {\n",
       "          var s = document.createElement('script');\n",
       "          document.getElementsByTagName(\"head\")[0].appendChild(s);\n",
       "          s.async = true;\n",
       "          s.onload = () => {\n",
       "            VEGA_DEBUG[key] = version;\n",
       "            return resolve(paths[lib]);\n",
       "          };\n",
       "          s.onerror = () => reject(`Error loading script: ${paths[lib]}`);\n",
       "          s.src = paths[lib];\n",
       "        });\n",
       "    }\n",
       "\n",
       "    function showError(err) {\n",
       "      outputDiv.innerHTML = `<div class=\"error\" style=\"color:red;\">${err}</div>`;\n",
       "      throw err;\n",
       "    }\n",
       "\n",
       "    function displayChart(vegaEmbed) {\n",
       "      vegaEmbed(outputDiv, spec, embedOpt)\n",
       "        .catch(err => showError(`Javascript Error: ${err.message}<br>This usually means there's a typo in your chart specification. See the javascript console for the full traceback.`));\n",
       "    }\n",
       "\n",
       "    if(typeof define === \"function\" && define.amd) {\n",
       "      requirejs.config({paths});\n",
       "      require([\"vega-embed\"], displayChart, err => showError(`Error loading script: ${err.message}`));\n",
       "    } else {\n",
       "      maybeLoadScript(\"vega\", \"5\")\n",
       "        .then(() => maybeLoadScript(\"vega-lite\", \"5.20.1\"))\n",
       "        .then(() => maybeLoadScript(\"vega-embed\", \"6\"))\n",
       "        .catch(showError)\n",
       "        .then(() => displayChart(vegaEmbed));\n",
       "    }\n",
       "  })({\"config\": {\"view\": {\"continuousWidth\": 300, \"continuousHeight\": 300}}, \"data\": {\"name\": \"data-8999d5abcb0dfebc52d964b8e4355512\"}, \"mark\": {\"type\": \"area\", \"color\": {\"gradient\": \"linear\", \"stops\": [{\"color\": \"lightblue\", \"offset\": 0}, {\"color\": \"darkblue\", \"offset\": 1}], \"x1\": 1, \"x2\": 1, \"y1\": 1, \"y2\": 0}, \"line\": {\"color\": \"darkblue\"}, \"opacity\": 0.7}, \"encoding\": {\"tooltip\": [{\"field\": \"hour\", \"type\": \"quantitative\"}, {\"field\": \"attendance\", \"type\": \"quantitative\"}], \"x\": {\"axis\": {\"labelAngle\": 0}, \"field\": \"hour\", \"title\": \"Hour of the Day\", \"type\": \"ordinal\"}, \"y\": {\"field\": \"attendance\", \"title\": \"Attendance Count\", \"type\": \"quantitative\"}}, \"height\": 300, \"title\": \"Engagement Timeline of 'High-Energy' Experiences\", \"width\": 600, \"$schema\": \"https://vega.github.io/schema/vega-lite/v5.20.1.json\", \"datasets\": {\"data-8999d5abcb0dfebc52d964b8e4355512\": [{\"hour\": 11, \"attendance\": 748}, {\"hour\": 12, \"attendance\": 131}, {\"hour\": 13, \"attendance\": 526}, {\"hour\": 14, \"attendance\": 524}, {\"hour\": 15, \"attendance\": 1190}, {\"hour\": 16, \"attendance\": 466}, {\"hour\": 17, \"attendance\": 1850}, {\"hour\": 18, \"attendance\": 4214}, {\"hour\": 19, \"attendance\": 1584}, {\"hour\": 20, \"attendance\": 3105}, {\"hour\": 21, \"attendance\": 2188}, {\"hour\": 22, \"attendance\": 1795}, {\"hour\": 23, \"attendance\": 1672}]}}, {\"mode\": \"vega-lite\"});\n",
       "</script>"
      ],
      "text/plain": [
       "alt.Chart(...)"
      ]
     },
     "execution_count": 50,
     "metadata": {},
     "output_type": "execute_result"
    }
   ],
   "source": [
    "import altair as alt\n",
    "\n",
    "# Loading the dataset\n",
    "data = pd.read_csv('TravelTechDataset2024Reduced2.csv')\n",
    "\n",
    "# Defining the list of sub-genres that could be considered \"high-energy\"\n",
    "immersive_genres = ['Hip Hop', 'Pop', 'Rock', 'Musical Comedy']\n",
    "\n",
    "# Filtering the data where 'subgenre1' is in the list of immersive genres\n",
    "immersive_data = data[data['subgenre1'].isin(immersive_genres)].copy()\n",
    "\n",
    "# Parsing datetime columns to get the hour of the day for analysis\n",
    "immersive_data['performance_datetime'] = pd.to_datetime(immersive_data['performance_datetime'])\n",
    "immersive_data['hour'] = immersive_data['performance_datetime'].dt.hour  # Extract the hour\n",
    "\n",
    "# Calculating hourly attendance counts\n",
    "hourly_attendance = immersive_data.groupby('hour').size().reset_index(name='attendance')\n",
    "\n",
    "# Creating the Altair area chart\n",
    "attendance_chart = alt.Chart(hourly_attendance).mark_area(\n",
    "    line={'color': 'darkblue'},\n",
    "    color=alt.Gradient(\n",
    "        gradient='linear',\n",
    "        stops=[alt.GradientStop(color='lightblue', offset=0),\n",
    "               alt.GradientStop(color='darkblue', offset=1)],\n",
    "        x1=1, x2=1, y1=1, y2=0\n",
    "    ),\n",
    "    opacity=0.7\n",
    ").encode(\n",
    "    x=alt.X('hour:O', title='Hour of the Day', axis=alt.Axis(labelAngle=0)),\n",
    "    y=alt.Y('attendance:Q', title='Attendance Count'),\n",
    "    tooltip=['hour', 'attendance']\n",
    ").properties(\n",
    "    width=600,\n",
    "    height=300,\n",
    "    title=\"Engagement Timeline of 'High-Energy' Experiences\"\n",
    ")\n",
    "\n",
    "attendance_chart\n"
   ]
  },
  {
   "cell_type": "markdown",
   "metadata": {},
   "source": [
    "**Output:**\n",
    "\n",
    "The updated timeline visualization displays the hourly attendance count for immersive or high-energy events throughout the day. The x-axis represents the hour of the day, ranging from 11 AM to 11 PM, while the y-axis shows the attendance count, with peaks and dips clearly visible.\n",
    "\n",
    "The chart reveals notable peaks in audience engagement, especially around the early evening hours:\n",
    "\n",
    "Peak at 6 PM: This is the highest attendance period, indicating a strong preference for immersive experiences in the early evening.\n",
    "\n",
    "Secondary peak at 8 PM: A slightly lower but still significant peak, showing continued interest in high-energy events later in the evening.\n",
    "\n",
    "Steady increase from 4 PM onwards: Attendance gradually increases as the day progresses, reaching a climax in the evening before tapering off.\n",
    "\n",
    "**Insight:**\n",
    "This timeline provides valuable insights into optimal scheduling for immersive experiences:\n",
    "\n",
    "Prime Hours for Engagement: The early evening (6 PM) appears to be the most appealing time for audiences to attend high-energy events, followed closely by 8 PM. Organizers can strategically schedule immersive experiences around these times to maximize attendance and audience engagement.\n",
    "\n",
    "Audience Energy Rhythm: The trend indicates a gradual build-up in engagement from mid-afternoon to evening, suggesting that audiences prefer to transition into high-energy activities later in the day.\n",
    "\n",
    "Event Timing Optimization: Planners can use this information to avoid scheduling immersive events during low-attendance hours (e.g., early afternoon), reserving these time slots for other types of events."
   ]
  },
  {
   "cell_type": "markdown",
   "metadata": {},
   "source": [
    "## Discussion"
   ]
  },
  {
   "cell_type": "markdown",
   "metadata": {},
   "source": [
    "This exploration has provided meaningful insights into how audiences interact with different events, ticket types, and sub-genres at the festival. The observations and insights gained from each of the three visualizations are interlinked and build a unique understanding of audience behavior and engagement, contributing to a comprehensive view of the festival experience.\n",
    "\n",
    "**Discoveries and Their Significance**\n",
    "\n",
    "**1. Emotional Path Mapping (Genre Transition Heatmap):**\n",
    "\n",
    "Attendees often transition between high-energy events like comedy and music, suggesting a pattern of alternating between genres that offer different emotional tones.\n",
    "\n",
    "This suggests that attendees may be curating their own “emotional arc” by balancing intense experiences with lighter, more varied genres. Understanding this can help organizers design event schedules that complement natural audience preferences for pacing their day.\n",
    "\n",
    "This insight is relevant for enhancing audience satisfaction by structuring events that allow attendees to create personalized, fulfilling experiences.\n",
    "\n",
    "**2. Ticket Type Popularity by Sub-Genre and Audience Demographics (Stacked Bar Chart):**\n",
    "\n",
    "Local audiences tend to prefer general admission or discounted tickets, while tourists are more inclined towards premium or VIP tickets. Additionally, sub-genres like Jazz/Blues and Classical/Choral are popular with both locals and tourists, but other sub-genres show stronger preferences by audience type.\n",
    "\n",
    "These patterns reveal underlying social and economic factors that affect accessibility and inclusion at the festival. By recognizing which sub-genres resonate with different demographics and ticket types, festival organizers can tailor pricing models and outreach to accommodate diverse audiences.\n",
    "\n",
    "This analysis highlights how ticket pricing and availability influence attendance, raising considerations for accessibility and inclusivity in event planning.\n",
    "\n",
    "**3. Engagement Timeline of High-Energy Experiences (Hourly Attendance Area Chart):**\n",
    "\n",
    "The engagement timeline shows clear peaks during midday and early evening, indicating optimal times for high-energy, immersive experiences. This timeline suggests that audiences may seek peak engagement and immersive experiences at specific times of day.\n",
    "\n",
    "This information is valuable for scheduling high-energy performances to coincide with audience energy levels, maximizing impact and enjoyment.\n",
    "\n",
    "By aligning event schedules with natural audience engagement cycles, organizers can enhance the immersive experience, leading to a more satisfying festival atmosphere.\n",
    "\n",
    "**Overall Reflections and Hypotheses**\n",
    "\n",
    "These discoveries collectively reveal meaningful patterns about how festival-goers interact with various genres, ticket types, and event timings to create a unique emotional journey. The data suggests that audiences are not only driven by genre preferences but also consider ticket type and event timing to curate a balanced experience. This reinforces the festival’s role in providing not only entertainment but also a structured environment where audiences can explore diverse cultural offerings.\n",
    "\n",
    "**Hypotheses for Further Exploration**\n",
    "\n",
    "Genre Preferences by Time of Day: Audiences may prefer specific genres at particular times (e.g., immersive experiences in the evening). Further analysis could examine if certain genres perform better at certain times.\n",
    "\n",
    "Socioeconomic Influence on Ticket Type Preferences: Differences in ticket type preferences between locals and tourists suggest socioeconomic factors influence ticket choices. Exploring this could reveal insights for more inclusive ticketing strategies.\n",
    "\n",
    "Impact of Genre Transitions on Audience Satisfaction: The genre transitions suggest audiences prefer alternating experiences. Testing whether curated schedules with intentional genre transitions enhance satisfaction could help optimize event scheduling.\n",
    "\n",
    "Something I really wanted to explore but couldn’t, due to the time and scope constraints of this assignment, was to look into Ticket Type and Mood Preferences. Certain ticket types, such as VIP or premium, may be more popular for music events with mellow or immersive moods, while general admission may align more with high-energy genres. Further exploration using sentiment analysis could examine if these associations are consistent across different sub-genres or if they vary by event size.\n",
    "\n",
    "Overall, these reflections and hypotheses provide a framework for future data-driven strategies that can shape a festival experience tailored to diverse audience needs, ensuring accessibility, engagement, and enjoyment for all attendees."
   ]
  },
  {
   "cell_type": "markdown",
   "metadata": {},
   "source": [
    "## Use of AI"
   ]
  },
  {
   "cell_type": "markdown",
   "metadata": {},
   "source": [
    "I used AI breifly once to check the reason for a 'Warning' message that popped-up on Jupyter. I resolved it based on the suggestions I received."
   ]
  }
 ],
 "metadata": {
  "kernelspec": {
   "display_name": "Python 3 (ipykernel)",
   "language": "python",
   "name": "python3"
  },
  "language_info": {
   "codemirror_mode": {
    "name": "ipython",
    "version": 3
   },
   "file_extension": ".py",
   "mimetype": "text/x-python",
   "name": "python",
   "nbconvert_exporter": "python",
   "pygments_lexer": "ipython3",
   "version": "3.11.9"
  }
 },
 "nbformat": 4,
 "nbformat_minor": 2
}
